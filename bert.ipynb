{
  "cells": [
    {
      "cell_type": "markdown",
      "id": "d48d14c8",
      "metadata": {
        "id": "d48d14c8"
      },
      "source": [
        "# Fine Tuning A BERT Model With HuggingFace"
      ]
    },
    {
      "cell_type": "markdown",
      "id": "0f535e23",
      "metadata": {
        "id": "0f535e23"
      },
      "source": [
        "## 1. Introduction"
      ]
    },
    {
      "cell_type": "code",
      "source": [
        "# !pip install arxiv\n",
        "# !pip install evaluate"
      ],
      "metadata": {
        "id": "N5WtjwRliSOZ"
      },
      "id": "N5WtjwRliSOZ",
      "execution_count": 2,
      "outputs": []
    },
    {
      "cell_type": "code",
      "execution_count": 41,
      "id": "d6dbfe07",
      "metadata": {
        "id": "d6dbfe07"
      },
      "outputs": [],
      "source": [
        "import arxiv\n",
        "import pandas as pd\n",
        "from sklearn.model_selection import train_test_split\n",
        "from sklearn.preprocessing import LabelEncoder\n",
        "from google.colab import auth"
      ]
    },
    {
      "cell_type": "markdown",
      "source": [
        " Next I authenticate myself as my Google account user. This will be helpful since I will be storing the doccuments as json in [Google Cloud Storage](https://cloud.google.com/storage?hl=en) and authentication through [colab](https://colab.research.google.com/) means there's no extra steps for access to the data!"
      ],
      "metadata": {
        "id": "pxN8Y1rv6maU"
      },
      "id": "pxN8Y1rv6maU"
    },
    {
      "cell_type": "code",
      "source": [
        "auth.authenticate_user()"
      ],
      "metadata": {
        "id": "adSUO_bXimfj"
      },
      "id": "adSUO_bXimfj",
      "execution_count": 42,
      "outputs": []
    },
    {
      "cell_type": "markdown",
      "id": "2dfff11c",
      "metadata": {
        "id": "2dfff11c"
      },
      "source": [
        "## 2. Collecting The Data"
      ]
    },
    {
      "cell_type": "code",
      "execution_count": null,
      "id": "703ecce2",
      "metadata": {
        "id": "703ecce2"
      },
      "outputs": [],
      "source": [
        "client = arxiv.Client()\n",
        "\n",
        "# artificial intelligence abstraccs\n",
        "ai_results = [{\n",
        "                \"id\": res.entry_id,\n",
        "                \"code\": res.primary_category,\n",
        "                \"text\": res.summary\n",
        "              } for res in client.results(\n",
        "                arxiv.Search(\n",
        "                    query = \"cat:cs.AI\",\n",
        "                    max_results = 1000\n",
        "                    )\n",
        "                )\n",
        "]\n",
        "\n",
        "# information retervial abstracts\n",
        "ir_results = [{\n",
        "                \"id\": res.entry_id,\n",
        "                \"code\": res.primary_category,\n",
        "                \"text\": res.summary\n",
        "              } for res in client.results(\n",
        "                arxiv.Search(\n",
        "                    query = \"cat:cs.IR\",\n",
        "                    max_results = 1000\n",
        "                    )\n",
        "                )\n",
        "]\n",
        "\n",
        "# robotics abstracts\n",
        "ro_results = [{\n",
        "                \"id\": res.entry_id,\n",
        "                \"code\": res.primary_category,\n",
        "                \"text\": res.summary\n",
        "              } for res in client.results(\n",
        "                arxiv.Search(\n",
        "                    query = \"cat:cs.RO\",\n",
        "                    max_results = 100\n",
        "                    )\n",
        "                )\n",
        "]"
      ]
    },
    {
      "cell_type": "markdown",
      "source": [
        "Now we combine them into a dataframe,"
      ],
      "metadata": {
        "id": "m0LpesN87UU1"
      },
      "id": "m0LpesN87UU1"
    },
    {
      "cell_type": "code",
      "execution_count": 3,
      "id": "1cf93f8f",
      "metadata": {
        "colab": {
          "base_uri": "https://localhost:8080/",
          "height": 180
        },
        "id": "1cf93f8f",
        "outputId": "b6a23c35-5220-4c32-865f-71478be39242"
      },
      "outputs": [
        {
          "output_type": "error",
          "ename": "NameError",
          "evalue": "name 'pd' is not defined",
          "traceback": [
            "\u001b[0;31m---------------------------------------------------------------------------\u001b[0m",
            "\u001b[0;31mNameError\u001b[0m                                 Traceback (most recent call last)",
            "\u001b[0;32m/tmp/ipython-input-2941942124.py\u001b[0m in \u001b[0;36m<cell line: 0>\u001b[0;34m()\u001b[0m\n\u001b[0;32m----> 1\u001b[0;31m df = pd.DataFrame(\n\u001b[0m\u001b[1;32m      2\u001b[0m     \u001b[0mai_results\u001b[0m \u001b[0;34m+\u001b[0m \u001b[0mir_results\u001b[0m \u001b[0;34m+\u001b[0m \u001b[0mro_results\u001b[0m\u001b[0;34m\u001b[0m\u001b[0;34m\u001b[0m\u001b[0m\n\u001b[1;32m      3\u001b[0m )\n",
            "\u001b[0;31mNameError\u001b[0m: name 'pd' is not defined"
          ]
        }
      ],
      "source": [
        "df = pd.DataFrame(\n",
        "    ai_results + ir_results + ro_results\n",
        ")"
      ]
    },
    {
      "cell_type": "code",
      "execution_count": null,
      "id": "ac810e8b",
      "metadata": {
        "id": "ac810e8b"
      },
      "outputs": [],
      "source": [
        "labeler  = LabelEncoder()\n",
        "df = df.assign(label=labeler.fit_transform(df[\"code\"]))\n",
        "labeler.classes_"
      ]
    },
    {
      "cell_type": "code",
      "execution_count": null,
      "id": "d3b86092",
      "metadata": {
        "id": "d3b86092"
      },
      "outputs": [],
      "source": [
        "df.to_json(\"gs://harmon-arxiv/abstracts.json\")"
      ]
    },
    {
      "cell_type": "code",
      "execution_count": null,
      "id": "12d96b16",
      "metadata": {
        "id": "12d96b16"
      },
      "outputs": [],
      "source": [
        "# df = pd.read_json(\"gs://harmon-arxiv/abstracts.json\")"
      ]
    },
    {
      "cell_type": "code",
      "execution_count": null,
      "id": "1e582a95",
      "metadata": {
        "id": "1e582a95"
      },
      "outputs": [],
      "source": [
        "X_train, X_test, y_train, y_test = train_test_split(df[\"text\"],\n",
        "                                                    df[\"label\"],\n",
        "                                                     test_size=0.15,\n",
        "                                                     random_state=42,\n",
        "                                                     stratify=df[\"label\"]\n",
        "                                                     )"
      ]
    },
    {
      "cell_type": "code",
      "execution_count": null,
      "id": "df086d73",
      "metadata": {
        "id": "df086d73"
      },
      "outputs": [],
      "source": [
        "X_train, X_val, y_train, y_val = train_test_split(X_train,\n",
        "                                                  y_train,\n",
        "                                                  test_size=0.20,\n",
        "                                                  random_state=42,\n",
        "                                                  stratify=y_train)"
      ]
    },
    {
      "cell_type": "code",
      "execution_count": null,
      "id": "3fced93d",
      "metadata": {
        "id": "3fced93d"
      },
      "outputs": [],
      "source": [
        "train_df = pd.DataFrame({\"text\": X_train,\n",
        "                        \"label\": y_train})\n",
        "\n",
        "val_df = pd.DataFrame({\"text\": X_val,\n",
        "                        \"label\": y_val})\n",
        "\n",
        "test_df = pd.DataFrame({\"text\": X_test,\n",
        "                        \"label\": y_test})"
      ]
    },
    {
      "cell_type": "code",
      "execution_count": null,
      "id": "80691699",
      "metadata": {
        "id": "80691699",
        "outputId": "f907b588-2ce4-4f14-a217-567202606f16"
      },
      "outputs": [
        {
          "data": {
            "text/plain": [
              "(1428, 2)"
            ]
          },
          "execution_count": 162,
          "metadata": {},
          "output_type": "execute_result"
        }
      ],
      "source": [
        "train_df.shape"
      ]
    },
    {
      "cell_type": "code",
      "execution_count": null,
      "id": "96322da7",
      "metadata": {
        "id": "96322da7",
        "outputId": "481e8734-41d9-4dfa-94ac-aaf0a43d9c9d"
      },
      "outputs": [
        {
          "data": {
            "text/plain": [
              "(357, 2)"
            ]
          },
          "execution_count": 163,
          "metadata": {},
          "output_type": "execute_result"
        }
      ],
      "source": [
        "val_df.shape"
      ]
    },
    {
      "cell_type": "code",
      "execution_count": null,
      "id": "1af7d3ca",
      "metadata": {
        "id": "1af7d3ca",
        "outputId": "4a4967a4-2d45-4638-c421-fa1909ec053c"
      },
      "outputs": [
        {
          "data": {
            "text/plain": [
              "(315, 2)"
            ]
          },
          "execution_count": 164,
          "metadata": {},
          "output_type": "execute_result"
        }
      ],
      "source": [
        "test_df.shape"
      ]
    },
    {
      "cell_type": "code",
      "source": [],
      "metadata": {
        "id": "kmxqywEhgtG2"
      },
      "id": "kmxqywEhgtG2",
      "execution_count": 37,
      "outputs": []
    },
    {
      "cell_type": "code",
      "execution_count": null,
      "id": "d9e7aaf3",
      "metadata": {
        "id": "d9e7aaf3"
      },
      "outputs": [],
      "source": [
        "train_df.to_json(\"gs://harmon-arxiv/train_abstracts.json\")\n",
        "\n",
        "val_df.to_json(\"gs://harmon-arxiv/val_abstracts.json\")\n",
        "\n",
        "test_df.to_json(\"gs://harmon-arxiv/test_abstracts.json\")"
      ]
    },
    {
      "cell_type": "code",
      "execution_count": null,
      "id": "070ceb3c",
      "metadata": {
        "id": "070ceb3c"
      },
      "outputs": [],
      "source": [
        "test_df[\"text\"].apply(lambda x: len(x)).to_frame(\"count\").query(\"count == 0\")"
      ]
    },
    {
      "cell_type": "code",
      "execution_count": null,
      "id": "370f9e81",
      "metadata": {
        "id": "370f9e81",
        "outputId": "38f4b5cb-8a6c-4281-cd64-15cb3d82c3f0"
      },
      "outputs": [
        {
          "data": {
            "text/html": [
              "<div>\n",
              "<style scoped>\n",
              "    .dataframe tbody tr th:only-of-type {\n",
              "        vertical-align: middle;\n",
              "    }\n",
              "\n",
              "    .dataframe tbody tr th {\n",
              "        vertical-align: top;\n",
              "    }\n",
              "\n",
              "    .dataframe thead th {\n",
              "        text-align: right;\n",
              "    }\n",
              "</style>\n",
              "<table border=\"1\" class=\"dataframe\">\n",
              "  <thead>\n",
              "    <tr style=\"text-align: right;\">\n",
              "      <th></th>\n",
              "      <th>count</th>\n",
              "    </tr>\n",
              "  </thead>\n",
              "  <tbody>\n",
              "  </tbody>\n",
              "</table>\n",
              "</div>"
            ],
            "text/plain": [
              "Empty DataFrame\n",
              "Columns: [count]\n",
              "Index: []"
            ]
          },
          "execution_count": 166,
          "metadata": {},
          "output_type": "execute_result"
        }
      ],
      "source": []
    },
    {
      "cell_type": "code",
      "source": [],
      "metadata": {
        "id": "ePVMnHiDZIFL"
      },
      "id": "ePVMnHiDZIFL",
      "execution_count": null,
      "outputs": []
    },
    {
      "cell_type": "markdown",
      "id": "4063b997",
      "metadata": {
        "id": "4063b997"
      },
      "source": [
        "## 2. HuggingFace Models"
      ]
    },
    {
      "cell_type": "code",
      "execution_count": 43,
      "id": "8271bf28",
      "metadata": {
        "id": "8271bf28"
      },
      "outputs": [],
      "source": [
        "train_df = pd.read_json(\"gs://harmon-arxiv/train_abstracts.json\")\n",
        "\n",
        "val_df = pd.read_json(\"gs://harmon-arxiv/val_abstracts.json\")\n",
        "\n",
        "test_df = pd.read_json(\"gs://harmon-arxiv/test_abstracts.json\")"
      ]
    },
    {
      "cell_type": "code",
      "execution_count": 4,
      "id": "f238d5e1",
      "metadata": {
        "id": "f238d5e1"
      },
      "outputs": [],
      "source": [
        "import pandas as pd\n",
        "from datasets import ClassLabel, Dataset, DatasetDict\n",
        "import torch\n",
        "from torch.optim import AdamW\n",
        "from transformers import AutoTokenizer, AutoModelForSequenceClassification, DataCollatorWithPadding\n",
        "from torch.utils.data import DataLoader\n",
        "import evaluate"
      ]
    },
    {
      "cell_type": "code",
      "source": [
        "train_df = pd.read_json(\"gs://train_abstracts.json\")\n",
        "val_df = pd.read_json(\"/val_abstracts.json\")"
      ],
      "metadata": {
        "id": "VpLAhdW0Zwf8"
      },
      "id": "VpLAhdW0Zwf8",
      "execution_count": 7,
      "outputs": []
    },
    {
      "cell_type": "code",
      "execution_count": null,
      "id": "eec5c304",
      "metadata": {
        "id": "eec5c304"
      },
      "outputs": [],
      "source": [
        "# class_labels = ClassLabel(names=[\"artifical intelligence\", \"information retrival\", \"\"])"
      ]
    },
    {
      "cell_type": "code",
      "execution_count": 8,
      "id": "07628128",
      "metadata": {
        "id": "07628128"
      },
      "outputs": [],
      "source": [
        "train_dataset = Dataset.from_pandas(train_df, preserve_index=False)\n",
        "val_dataset = Dataset.from_pandas(val_df, preserve_index=False)\n",
        "test_dataset = Dataset.from_pandas(test_df, preserve_index=False)aaa"
      ]
    },
    {
      "cell_type": "code",
      "execution_count": 1,
      "id": "2e7236b2",
      "metadata": {
        "colab": {
          "base_uri": "https://localhost:8080/",
          "height": 216
        },
        "id": "2e7236b2",
        "outputId": "f89b4563-d32d-46d8-e482-cb4108932425"
      },
      "outputs": [
        {
          "output_type": "error",
          "ename": "NameError",
          "evalue": "name 'DatasetDict' is not defined",
          "traceback": [
            "\u001b[0;31m---------------------------------------------------------------------------\u001b[0m",
            "\u001b[0;31mNameError\u001b[0m                                 Traceback (most recent call last)",
            "\u001b[0;32m/tmp/ipython-input-3750167776.py\u001b[0m in \u001b[0;36m<cell line: 0>\u001b[0;34m()\u001b[0m\n\u001b[0;32m----> 1\u001b[0;31m dataset_dict = DatasetDict({\n\u001b[0m\u001b[1;32m      2\u001b[0m     \u001b[0;34m\"train\"\u001b[0m\u001b[0;34m:\u001b[0m \u001b[0mtrain_dataset\u001b[0m\u001b[0;34m,\u001b[0m\u001b[0;34m\u001b[0m\u001b[0;34m\u001b[0m\u001b[0m\n\u001b[1;32m      3\u001b[0m     \u001b[0;34m\"validation\"\u001b[0m\u001b[0;34m:\u001b[0m \u001b[0mval_dataset\u001b[0m\u001b[0;34m,\u001b[0m\u001b[0;34m\u001b[0m\u001b[0;34m\u001b[0m\u001b[0m\n\u001b[1;32m      4\u001b[0m     \u001b[0;34m\"test\"\u001b[0m\u001b[0;34m:\u001b[0m \u001b[0mtest_dataset\u001b[0m\u001b[0;34m\u001b[0m\u001b[0;34m\u001b[0m\u001b[0m\n\u001b[1;32m      5\u001b[0m })\n",
            "\u001b[0;31mNameError\u001b[0m: name 'DatasetDict' is not defined"
          ]
        }
      ],
      "source": [
        "dataset_dict = DatasetDict({\n",
        "    \"train\": train_dataset,\n",
        "    \"validation\": val_dataset,\n",
        "    \"test\": test_dataset\n",
        "})"
      ]
    },
    {
      "cell_type": "code",
      "execution_count": null,
      "id": "3d629335",
      "metadata": {
        "id": "3d629335"
      },
      "outputs": [],
      "source": []
    },
    {
      "cell_type": "code",
      "execution_count": null,
      "id": "20777189",
      "metadata": {
        "id": "20777189"
      },
      "outputs": [],
      "source": []
    },
    {
      "cell_type": "code",
      "execution_count": 14,
      "id": "d9293cc0",
      "metadata": {
        "colab": {
          "base_uri": "https://localhost:8080/"
        },
        "id": "d9293cc0",
        "outputId": "b1d9035e-9d8e-4584-d9fb-a8368457fc5d"
      },
      "outputs": [
        {
          "output_type": "stream",
          "name": "stderr",
          "text": [
            "Some weights of DistilBertForSequenceClassification were not initialized from the model checkpoint at distilbert/distilbert-base-uncased and are newly initialized: ['classifier.bias', 'classifier.weight', 'pre_classifier.bias', 'pre_classifier.weight']\n",
            "You should probably TRAIN this model on a down-stream task to be able to use it for predictions and inference.\n"
          ]
        }
      ],
      "source": [
        "\n",
        "checkpoint = \"distilbert/distilbert-base-uncased\"\n",
        "device=\"cuda\"\n",
        "tokenizer = AutoTokenizer.from_pretrained(checkpoint)\n",
        "model = AutoModelForSequenceClassification.from_pretrained(checkpoint, num_labels=3)\n",
        "roc_auc_score = evaluate.load(\"roc_auc\", \"multiclass\")\n"
      ]
    },
    {
      "cell_type": "code",
      "execution_count": 15,
      "id": "932bd85c",
      "metadata": {
        "id": "932bd85c"
      },
      "outputs": [],
      "source": [
        "model = model.to(device)"
      ]
    },
    {
      "cell_type": "code",
      "execution_count": 16,
      "id": "5f5c0316",
      "metadata": {
        "colab": {
          "base_uri": "https://localhost:8080/",
          "height": 81,
          "referenced_widgets": [
            "9d5d5eb7a7bd4c029e33ac1217ff7af2",
            "010c48c7f4f040dba623b7b7901f8736",
            "36eb6b97e8d84884b86444ec3aed4774",
            "2b3bd5dd3bcd468390a23e9924684591",
            "abe3b59a0d95409f903bd1ae681febc5",
            "855909f1349c47e29d9b63033ffc046e",
            "45971642ebd644c995b5918a7a884376",
            "851fd1d8ce374252a1d5b9c0c3d2e0c9",
            "b8ac6347513a433da32169105ced8d37",
            "c79834490d2c46d1ab8f92da56e2bc2a",
            "958da40162b94545b925c064d18d078b",
            "a641718e48ed4b068bbcf071e827d061",
            "c04249aad38045b99aeff907b8e2994a",
            "a0a6ec699a494a9f92dd64513d087a95",
            "0cc78c5051f74e2c8997396f42de618f",
            "8ba1dc1261924cae946fabf8de7c917b",
            "574f9bb0fe9d4e47be980a430dc804fe",
            "10c9350c159a42e2b6e802f06d17cec7",
            "2e6896a7645e44a1aeb6c486065070a7",
            "cbac5920fc1344d69007d5a653425435",
            "73e24462d96e42048083ee81edc6ddad",
            "187d6557d4ab4d148ebabc618679112f"
          ]
        },
        "id": "5f5c0316",
        "outputId": "360915b9-5778-4c0d-b3c0-9a8efd05d4e6"
      },
      "outputs": [
        {
          "output_type": "display_data",
          "data": {
            "text/plain": [
              "Map:   0%|          | 0/1428 [00:00<?, ? examples/s]"
            ],
            "application/vnd.jupyter.widget-view+json": {
              "version_major": 2,
              "version_minor": 0,
              "model_id": "9d5d5eb7a7bd4c029e33ac1217ff7af2"
            }
          },
          "metadata": {}
        },
        {
          "output_type": "display_data",
          "data": {
            "text/plain": [
              "Map:   0%|          | 0/357 [00:00<?, ? examples/s]"
            ],
            "application/vnd.jupyter.widget-view+json": {
              "version_major": 2,
              "version_minor": 0,
              "model_id": "a641718e48ed4b068bbcf071e827d061"
            }
          },
          "metadata": {}
        }
      ],
      "source": [
        "\n",
        "def tokenize_function(example):\n",
        "    return tokenizer(example[\"text\"], truncation=True)\n",
        "\n",
        "\n",
        "tokenized_datasets = dataset_dict.map(tokenize_function, batched=True)\n",
        "data_collator = DataCollatorWithPadding(tokenizer=tokenizer)"
      ]
    },
    {
      "cell_type": "code",
      "execution_count": 17,
      "id": "0e0d9e42",
      "metadata": {
        "id": "0e0d9e42"
      },
      "outputs": [],
      "source": [
        "tokenized_datasets = tokenized_datasets.remove_columns(\"text\")\n",
        "tokenized_datasets = tokenized_datasets.rename_column(\"label\", \"labels\")"
      ]
    },
    {
      "cell_type": "code",
      "execution_count": 18,
      "id": "29c15dfc",
      "metadata": {
        "id": "29c15dfc"
      },
      "outputs": [],
      "source": [
        "tokenized_datasets = tokenized_datasets.with_format(\"torch\")"
      ]
    },
    {
      "cell_type": "code",
      "source": [],
      "metadata": {
        "id": "fJpiMsDzbO8t"
      },
      "id": "fJpiMsDzbO8t",
      "execution_count": 27,
      "outputs": []
    },
    {
      "cell_type": "code",
      "execution_count": 19,
      "id": "81dd6c5c",
      "metadata": {
        "id": "81dd6c5c"
      },
      "outputs": [],
      "source": [
        "val_dataloader = DataLoader(\n",
        "    tokenized_datasets[\"validation\"], batch_size=8, collate_fn=data_collator\n",
        ")"
      ]
    },
    {
      "cell_type": "code",
      "execution_count": 20,
      "id": "7dc37cbe",
      "metadata": {
        "id": "7dc37cbe"
      },
      "outputs": [],
      "source": [
        "model.eval()\n",
        "for batch in val_dataloader:\n",
        "    batch = {k: v.to(device) for k, v in batch.items()}\n",
        "    with torch.no_grad():\n",
        "        outputs = model(**batch)\n",
        "        scores = torch.nn.functional.softmax(outputs.logits, dim=-1)\n",
        "        roc_auc_score.add_batch(references=batch[\"labels\"],\n",
        "                               prediction_scores=scores)"
      ]
    },
    {
      "cell_type": "code",
      "execution_count": null,
      "id": "868f72a5",
      "metadata": {
        "id": "868f72a5",
        "outputId": "34aad679-6663-45dd-f0af-57e72466ddbb"
      },
      "outputs": [
        {
          "data": {
            "text/plain": [
              "{'roc_auc': 0.1680612351892629}"
            ]
          },
          "execution_count": 28,
          "metadata": {},
          "output_type": "execute_result"
        }
      ],
      "source": [
        "roc_auc_score.compute(multi_class=\"ovr\")"
      ]
    },
    {
      "cell_type": "markdown",
      "id": "468bf75f",
      "metadata": {
        "id": "468bf75f"
      },
      "source": [
        "## 3. Fine Tuning DistilBERT"
      ]
    },
    {
      "cell_type": "code",
      "execution_count": 21,
      "id": "6b7a95d2",
      "metadata": {
        "colab": {
          "base_uri": "https://localhost:8080/"
        },
        "id": "6b7a95d2",
        "outputId": "9de127ee-e88d-46d2-96d8-e7f4cbd35cdf"
      },
      "outputs": [
        {
          "output_type": "execute_result",
          "data": {
            "text/plain": [
              "device(type='cuda', index=0)"
            ]
          },
          "metadata": {},
          "execution_count": 21
        }
      ],
      "source": [
        "model.device"
      ]
    },
    {
      "cell_type": "code",
      "execution_count": null,
      "id": "66c750df",
      "metadata": {
        "id": "66c750df"
      },
      "outputs": [],
      "source": []
    },
    {
      "cell_type": "code",
      "execution_count": null,
      "id": "dd01eccc",
      "metadata": {
        "id": "dd01eccc"
      },
      "outputs": [],
      "source": []
    },
    {
      "cell_type": "code",
      "execution_count": 22,
      "id": "e0f54b5a",
      "metadata": {
        "id": "e0f54b5a"
      },
      "outputs": [],
      "source": [
        "def compute_metrics(eval_preds):\n",
        "    roc_auc_score = evaluate.load(\"roc_auc\", \"multiclass\")\n",
        "    preds, labels = eval_preds\n",
        "    scores = torch.nn.functional.softmax(\n",
        "                        torch.tensor(preds), dim=-1)\n",
        "\n",
        "    return roc_auc_score.compute(prediction_scores=scores, references=labels, multi_class=\"ovr\")"
      ]
    },
    {
      "cell_type": "code",
      "execution_count": 22,
      "id": "a16efd79",
      "metadata": {
        "id": "a16efd79"
      },
      "outputs": [],
      "source": []
    },
    {
      "cell_type": "code",
      "execution_count": 29,
      "id": "543a1b53",
      "metadata": {
        "id": "543a1b53"
      },
      "outputs": [],
      "source": [
        "from transformers import TrainingArguments\n",
        "\n",
        "training_args = TrainingArguments(\n",
        "    output_dir=\"./results\",\n",
        "    learning_rate=2e-4,\n",
        "    per_device_train_batch_size=8,\n",
        "    per_device_eval_batch_size=8,\n",
        "    num_train_epochs=1,\n",
        "    weight_decay=0.01,\n",
        "    eval_strategy=\"epoch\",\n",
        "    logging_strategy=\"epoch\",\n",
        "    report_to=\"none\"\n",
        ")"
      ]
    },
    {
      "cell_type": "code",
      "execution_count": 30,
      "id": "eac0ccb6",
      "metadata": {
        "id": "eac0ccb6"
      },
      "outputs": [],
      "source": [
        "from transformers import Trainer\n",
        "\n",
        "trainer = Trainer(\n",
        "    model,\n",
        "    training_args,\n",
        "    train_dataset=tokenized_datasets[\"train\"],\n",
        "    eval_dataset=tokenized_datasets[\"validation\"],\n",
        "    data_collator=data_collator,\n",
        "    processing_class=tokenizer,\n",
        "    compute_metrics=compute_metrics\n",
        ")\n"
      ]
    },
    {
      "cell_type": "code",
      "execution_count": 31,
      "id": "3d0574ca",
      "metadata": {
        "colab": {
          "base_uri": "https://localhost:8080/",
          "height": 142
        },
        "id": "3d0574ca",
        "outputId": "2f806f7f-57b5-4a03-9443-8ab94ecbde5c"
      },
      "outputs": [
        {
          "output_type": "display_data",
          "data": {
            "text/plain": [
              "<IPython.core.display.HTML object>"
            ],
            "text/html": [
              "\n",
              "    <div>\n",
              "      \n",
              "      <progress value='179' max='179' style='width:300px; height:20px; vertical-align: middle;'></progress>\n",
              "      [179/179 00:55, Epoch 1/1]\n",
              "    </div>\n",
              "    <table border=\"1\" class=\"dataframe\">\n",
              "  <thead>\n",
              " <tr style=\"text-align: left;\">\n",
              "      <th>Epoch</th>\n",
              "      <th>Training Loss</th>\n",
              "      <th>Validation Loss</th>\n",
              "      <th>Roc Auc</th>\n",
              "    </tr>\n",
              "  </thead>\n",
              "  <tbody>\n",
              "    <tr>\n",
              "      <td>1</td>\n",
              "      <td>0.426800</td>\n",
              "      <td>0.271895</td>\n",
              "      <td>0.977267</td>\n",
              "    </tr>\n",
              "  </tbody>\n",
              "</table><p>"
            ]
          },
          "metadata": {}
        },
        {
          "output_type": "execute_result",
          "data": {
            "text/plain": [
              "TrainOutput(global_step=179, training_loss=0.42683321137668034, metrics={'train_runtime': 56.7551, 'train_samples_per_second': 25.161, 'train_steps_per_second': 3.154, 'total_flos': 110735405935992.0, 'train_loss': 0.42683321137668034, 'epoch': 1.0})"
            ]
          },
          "metadata": {},
          "execution_count": 31
        }
      ],
      "source": [
        "trainer.train()"
      ]
    },
    {
      "cell_type": "code",
      "execution_count": null,
      "id": "00084c07",
      "metadata": {
        "id": "00084c07"
      },
      "outputs": [],
      "source": [
        "trainer.save_model(\"temp\")"
      ]
    },
    {
      "cell_type": "code",
      "execution_count": null,
      "id": "32c887da",
      "metadata": {
        "id": "32c887da"
      },
      "outputs": [],
      "source": [
        "trainer.load   (\"temp\")"
      ]
    },
    {
      "cell_type": "code",
      "execution_count": 32,
      "id": "98daa73e",
      "metadata": {
        "id": "98daa73e"
      },
      "outputs": [],
      "source": [
        "model = trainer.model\n",
        "roc_auc_score = evaluate.load(\"roc_auc\", \"multiclass\")\n"
      ]
    },
    {
      "cell_type": "code",
      "execution_count": 33,
      "id": "70353354",
      "metadata": {
        "id": "70353354"
      },
      "outputs": [],
      "source": [
        "\n",
        "for batch in val_dataloader:\n",
        "    batch = {k: v.to(device) for k, v in batch.items()}\n",
        "    with torch.no_grad():\n",
        "        outputs = model(**batch)\n",
        "        scores = torch.nn.functional.softmax(outputs.logits, dim=-1)\n",
        "        roc_auc_score.add_batch(references=batch[\"labels\"],\n",
        "                               prediction_scores=scores)"
      ]
    },
    {
      "cell_type": "code",
      "source": [],
      "metadata": {
        "id": "wqT2q7qBb22E"
      },
      "id": "wqT2q7qBb22E",
      "execution_count": null,
      "outputs": []
    },
    {
      "cell_type": "code",
      "source": [
        "roc_auc_score.compute(multi_class=\"ovr\")"
      ],
      "metadata": {
        "id": "DAp8ZTEVb-vu",
        "outputId": "5b7d88ee-c561-4586-964f-21a4d699d53d",
        "colab": {
          "base_uri": "https://localhost:8080/"
        }
      },
      "id": "DAp8ZTEVb-vu",
      "execution_count": 35,
      "outputs": [
        {
          "output_type": "execute_result",
          "data": {
            "text/plain": [
              "{'roc_auc': np.float64(0.9772674845339205)}"
            ]
          },
          "metadata": {},
          "execution_count": 35
        }
      ]
    },
    {
      "cell_type": "code",
      "execution_count": 34,
      "id": "b69534af",
      "metadata": {
        "colab": {
          "base_uri": "https://localhost:8080/",
          "height": 323
        },
        "id": "b69534af",
        "outputId": "16f680b7-b359-4d74-e0f4-ca03b2e2c935"
      },
      "outputs": [
        {
          "output_type": "error",
          "ename": "KeyError",
          "evalue": "'test'",
          "traceback": [
            "\u001b[0;31m---------------------------------------------------------------------------\u001b[0m",
            "\u001b[0;31mKeyError\u001b[0m                                  Traceback (most recent call last)",
            "\u001b[0;32m/tmp/ipython-input-3532274866.py\u001b[0m in \u001b[0;36m<cell line: 0>\u001b[0;34m()\u001b[0m\n\u001b[0;32m----> 1\u001b[0;31m \u001b[0mpredictions\u001b[0m \u001b[0;34m=\u001b[0m \u001b[0mtorch\u001b[0m\u001b[0;34m.\u001b[0m\u001b[0mtensor\u001b[0m\u001b[0;34m(\u001b[0m\u001b[0mtrainer\u001b[0m\u001b[0;34m.\u001b[0m\u001b[0mpredict\u001b[0m\u001b[0;34m(\u001b[0m\u001b[0mtokenized_datasets\u001b[0m\u001b[0;34m[\u001b[0m\u001b[0;34m\"test\"\u001b[0m\u001b[0;34m]\u001b[0m\u001b[0;34m)\u001b[0m\u001b[0;34m)\u001b[0m\u001b[0;34m\u001b[0m\u001b[0;34m\u001b[0m\u001b[0m\n\u001b[0m\u001b[1;32m      2\u001b[0m \u001b[0;34m\u001b[0m\u001b[0m\n\u001b[1;32m      3\u001b[0m scores = torch.nn.functional.softmax(\n\u001b[1;32m      4\u001b[0m     torch.tensor(predictions.predictions), dim=-1)\n",
            "\u001b[0;32m/usr/local/lib/python3.11/dist-packages/datasets/dataset_dict.py\u001b[0m in \u001b[0;36m__getitem__\u001b[0;34m(self, k)\u001b[0m\n\u001b[1;32m     80\u001b[0m     \u001b[0;32mdef\u001b[0m \u001b[0m__getitem__\u001b[0m\u001b[0;34m(\u001b[0m\u001b[0mself\u001b[0m\u001b[0;34m,\u001b[0m \u001b[0mk\u001b[0m\u001b[0;34m)\u001b[0m \u001b[0;34m->\u001b[0m \u001b[0mDataset\u001b[0m\u001b[0;34m:\u001b[0m\u001b[0;34m\u001b[0m\u001b[0;34m\u001b[0m\u001b[0m\n\u001b[1;32m     81\u001b[0m         \u001b[0;32mif\u001b[0m \u001b[0misinstance\u001b[0m\u001b[0;34m(\u001b[0m\u001b[0mk\u001b[0m\u001b[0;34m,\u001b[0m \u001b[0;34m(\u001b[0m\u001b[0mstr\u001b[0m\u001b[0;34m,\u001b[0m \u001b[0mNamedSplit\u001b[0m\u001b[0;34m)\u001b[0m\u001b[0;34m)\u001b[0m \u001b[0;32mor\u001b[0m \u001b[0mlen\u001b[0m\u001b[0;34m(\u001b[0m\u001b[0mself\u001b[0m\u001b[0;34m)\u001b[0m \u001b[0;34m==\u001b[0m \u001b[0;36m0\u001b[0m\u001b[0;34m:\u001b[0m\u001b[0;34m\u001b[0m\u001b[0;34m\u001b[0m\u001b[0m\n\u001b[0;32m---> 82\u001b[0;31m             \u001b[0;32mreturn\u001b[0m \u001b[0msuper\u001b[0m\u001b[0;34m(\u001b[0m\u001b[0;34m)\u001b[0m\u001b[0;34m.\u001b[0m\u001b[0m__getitem__\u001b[0m\u001b[0;34m(\u001b[0m\u001b[0mk\u001b[0m\u001b[0;34m)\u001b[0m\u001b[0;34m\u001b[0m\u001b[0;34m\u001b[0m\u001b[0m\n\u001b[0m\u001b[1;32m     83\u001b[0m         \u001b[0;32melse\u001b[0m\u001b[0;34m:\u001b[0m\u001b[0;34m\u001b[0m\u001b[0;34m\u001b[0m\u001b[0m\n\u001b[1;32m     84\u001b[0m             available_suggested_splits = [\n",
            "\u001b[0;31mKeyError\u001b[0m: 'test'"
          ]
        }
      ],
      "source": [
        "predictions = torch.tensor(trainer.predict(tokenized_datasets[\"validation\"]))\n",
        "\n",
        "scores = torch.nn.functional.softmax(\n",
        "    torch.tensor(predictions.predictions), dim=-1)"
      ]
    },
    {
      "cell_type": "code",
      "execution_count": null,
      "id": "e67c3232",
      "metadata": {
        "id": "e67c3232"
      },
      "outputs": [],
      "source": [
        "roc_auc_score.compute(references=test_dataset[\"label\"],\n",
        "                      prediction_scores=scores,\n",
        "                      multi_class=\"ovr\")"
      ]
    },
    {
      "cell_type": "code",
      "execution_count": null,
      "id": "32b87072",
      "metadata": {
        "id": "32b87072",
        "outputId": "97cc97dd-efeb-4897-a3f9-6c9cb58a7e4a"
      },
      "outputs": [
        {
          "data": {
            "text/plain": [
              "{'roc_auc': 0.8106397306397306}"
            ]
          },
          "execution_count": 221,
          "metadata": {},
          "output_type": "execute_result"
        }
      ],
      "source": []
    },
    {
      "cell_type": "code",
      "execution_count": null,
      "id": "5790733b",
      "metadata": {
        "id": "5790733b"
      },
      "outputs": [],
      "source": []
    }
  ],
  "metadata": {
    "kernelspec": {
      "display_name": "Python 3",
      "name": "python3"
    },
    "language_info": {
      "codemirror_mode": {
        "name": "ipython",
        "version": 3
      },
      "file_extension": ".py",
      "mimetype": "text/x-python",
      "name": "python",
      "nbconvert_exporter": "python",
      "pygments_lexer": "ipython3",
      "version": "3.12.11"
    },
    "colab": {
      "provenance": [],
      "gpuType": "T4"
    },
    "accelerator": "GPU",
    "widgets": {
      "application/vnd.jupyter.widget-state+json": {
        "9d5d5eb7a7bd4c029e33ac1217ff7af2": {
          "model_module": "@jupyter-widgets/controls",
          "model_name": "HBoxModel",
          "model_module_version": "1.5.0",
          "state": {
            "_dom_classes": [],
            "_model_module": "@jupyter-widgets/controls",
            "_model_module_version": "1.5.0",
            "_model_name": "HBoxModel",
            "_view_count": null,
            "_view_module": "@jupyter-widgets/controls",
            "_view_module_version": "1.5.0",
            "_view_name": "HBoxView",
            "box_style": "",
            "children": [
              "IPY_MODEL_010c48c7f4f040dba623b7b7901f8736",
              "IPY_MODEL_36eb6b97e8d84884b86444ec3aed4774",
              "IPY_MODEL_2b3bd5dd3bcd468390a23e9924684591"
            ],
            "layout": "IPY_MODEL_abe3b59a0d95409f903bd1ae681febc5"
          }
        },
        "010c48c7f4f040dba623b7b7901f8736": {
          "model_module": "@jupyter-widgets/controls",
          "model_name": "HTMLModel",
          "model_module_version": "1.5.0",
          "state": {
            "_dom_classes": [],
            "_model_module": "@jupyter-widgets/controls",
            "_model_module_version": "1.5.0",
            "_model_name": "HTMLModel",
            "_view_count": null,
            "_view_module": "@jupyter-widgets/controls",
            "_view_module_version": "1.5.0",
            "_view_name": "HTMLView",
            "description": "",
            "description_tooltip": null,
            "layout": "IPY_MODEL_855909f1349c47e29d9b63033ffc046e",
            "placeholder": "​",
            "style": "IPY_MODEL_45971642ebd644c995b5918a7a884376",
            "value": "Map: 100%"
          }
        },
        "36eb6b97e8d84884b86444ec3aed4774": {
          "model_module": "@jupyter-widgets/controls",
          "model_name": "FloatProgressModel",
          "model_module_version": "1.5.0",
          "state": {
            "_dom_classes": [],
            "_model_module": "@jupyter-widgets/controls",
            "_model_module_version": "1.5.0",
            "_model_name": "FloatProgressModel",
            "_view_count": null,
            "_view_module": "@jupyter-widgets/controls",
            "_view_module_version": "1.5.0",
            "_view_name": "ProgressView",
            "bar_style": "success",
            "description": "",
            "description_tooltip": null,
            "layout": "IPY_MODEL_851fd1d8ce374252a1d5b9c0c3d2e0c9",
            "max": 1428,
            "min": 0,
            "orientation": "horizontal",
            "style": "IPY_MODEL_b8ac6347513a433da32169105ced8d37",
            "value": 1428
          }
        },
        "2b3bd5dd3bcd468390a23e9924684591": {
          "model_module": "@jupyter-widgets/controls",
          "model_name": "HTMLModel",
          "model_module_version": "1.5.0",
          "state": {
            "_dom_classes": [],
            "_model_module": "@jupyter-widgets/controls",
            "_model_module_version": "1.5.0",
            "_model_name": "HTMLModel",
            "_view_count": null,
            "_view_module": "@jupyter-widgets/controls",
            "_view_module_version": "1.5.0",
            "_view_name": "HTMLView",
            "description": "",
            "description_tooltip": null,
            "layout": "IPY_MODEL_c79834490d2c46d1ab8f92da56e2bc2a",
            "placeholder": "​",
            "style": "IPY_MODEL_958da40162b94545b925c064d18d078b",
            "value": " 1428/1428 [00:01&lt;00:00, 1081.09 examples/s]"
          }
        },
        "abe3b59a0d95409f903bd1ae681febc5": {
          "model_module": "@jupyter-widgets/base",
          "model_name": "LayoutModel",
          "model_module_version": "1.2.0",
          "state": {
            "_model_module": "@jupyter-widgets/base",
            "_model_module_version": "1.2.0",
            "_model_name": "LayoutModel",
            "_view_count": null,
            "_view_module": "@jupyter-widgets/base",
            "_view_module_version": "1.2.0",
            "_view_name": "LayoutView",
            "align_content": null,
            "align_items": null,
            "align_self": null,
            "border": null,
            "bottom": null,
            "display": null,
            "flex": null,
            "flex_flow": null,
            "grid_area": null,
            "grid_auto_columns": null,
            "grid_auto_flow": null,
            "grid_auto_rows": null,
            "grid_column": null,
            "grid_gap": null,
            "grid_row": null,
            "grid_template_areas": null,
            "grid_template_columns": null,
            "grid_template_rows": null,
            "height": null,
            "justify_content": null,
            "justify_items": null,
            "left": null,
            "margin": null,
            "max_height": null,
            "max_width": null,
            "min_height": null,
            "min_width": null,
            "object_fit": null,
            "object_position": null,
            "order": null,
            "overflow": null,
            "overflow_x": null,
            "overflow_y": null,
            "padding": null,
            "right": null,
            "top": null,
            "visibility": null,
            "width": null
          }
        },
        "855909f1349c47e29d9b63033ffc046e": {
          "model_module": "@jupyter-widgets/base",
          "model_name": "LayoutModel",
          "model_module_version": "1.2.0",
          "state": {
            "_model_module": "@jupyter-widgets/base",
            "_model_module_version": "1.2.0",
            "_model_name": "LayoutModel",
            "_view_count": null,
            "_view_module": "@jupyter-widgets/base",
            "_view_module_version": "1.2.0",
            "_view_name": "LayoutView",
            "align_content": null,
            "align_items": null,
            "align_self": null,
            "border": null,
            "bottom": null,
            "display": null,
            "flex": null,
            "flex_flow": null,
            "grid_area": null,
            "grid_auto_columns": null,
            "grid_auto_flow": null,
            "grid_auto_rows": null,
            "grid_column": null,
            "grid_gap": null,
            "grid_row": null,
            "grid_template_areas": null,
            "grid_template_columns": null,
            "grid_template_rows": null,
            "height": null,
            "justify_content": null,
            "justify_items": null,
            "left": null,
            "margin": null,
            "max_height": null,
            "max_width": null,
            "min_height": null,
            "min_width": null,
            "object_fit": null,
            "object_position": null,
            "order": null,
            "overflow": null,
            "overflow_x": null,
            "overflow_y": null,
            "padding": null,
            "right": null,
            "top": null,
            "visibility": null,
            "width": null
          }
        },
        "45971642ebd644c995b5918a7a884376": {
          "model_module": "@jupyter-widgets/controls",
          "model_name": "DescriptionStyleModel",
          "model_module_version": "1.5.0",
          "state": {
            "_model_module": "@jupyter-widgets/controls",
            "_model_module_version": "1.5.0",
            "_model_name": "DescriptionStyleModel",
            "_view_count": null,
            "_view_module": "@jupyter-widgets/base",
            "_view_module_version": "1.2.0",
            "_view_name": "StyleView",
            "description_width": ""
          }
        },
        "851fd1d8ce374252a1d5b9c0c3d2e0c9": {
          "model_module": "@jupyter-widgets/base",
          "model_name": "LayoutModel",
          "model_module_version": "1.2.0",
          "state": {
            "_model_module": "@jupyter-widgets/base",
            "_model_module_version": "1.2.0",
            "_model_name": "LayoutModel",
            "_view_count": null,
            "_view_module": "@jupyter-widgets/base",
            "_view_module_version": "1.2.0",
            "_view_name": "LayoutView",
            "align_content": null,
            "align_items": null,
            "align_self": null,
            "border": null,
            "bottom": null,
            "display": null,
            "flex": null,
            "flex_flow": null,
            "grid_area": null,
            "grid_auto_columns": null,
            "grid_auto_flow": null,
            "grid_auto_rows": null,
            "grid_column": null,
            "grid_gap": null,
            "grid_row": null,
            "grid_template_areas": null,
            "grid_template_columns": null,
            "grid_template_rows": null,
            "height": null,
            "justify_content": null,
            "justify_items": null,
            "left": null,
            "margin": null,
            "max_height": null,
            "max_width": null,
            "min_height": null,
            "min_width": null,
            "object_fit": null,
            "object_position": null,
            "order": null,
            "overflow": null,
            "overflow_x": null,
            "overflow_y": null,
            "padding": null,
            "right": null,
            "top": null,
            "visibility": null,
            "width": null
          }
        },
        "b8ac6347513a433da32169105ced8d37": {
          "model_module": "@jupyter-widgets/controls",
          "model_name": "ProgressStyleModel",
          "model_module_version": "1.5.0",
          "state": {
            "_model_module": "@jupyter-widgets/controls",
            "_model_module_version": "1.5.0",
            "_model_name": "ProgressStyleModel",
            "_view_count": null,
            "_view_module": "@jupyter-widgets/base",
            "_view_module_version": "1.2.0",
            "_view_name": "StyleView",
            "bar_color": null,
            "description_width": ""
          }
        },
        "c79834490d2c46d1ab8f92da56e2bc2a": {
          "model_module": "@jupyter-widgets/base",
          "model_name": "LayoutModel",
          "model_module_version": "1.2.0",
          "state": {
            "_model_module": "@jupyter-widgets/base",
            "_model_module_version": "1.2.0",
            "_model_name": "LayoutModel",
            "_view_count": null,
            "_view_module": "@jupyter-widgets/base",
            "_view_module_version": "1.2.0",
            "_view_name": "LayoutView",
            "align_content": null,
            "align_items": null,
            "align_self": null,
            "border": null,
            "bottom": null,
            "display": null,
            "flex": null,
            "flex_flow": null,
            "grid_area": null,
            "grid_auto_columns": null,
            "grid_auto_flow": null,
            "grid_auto_rows": null,
            "grid_column": null,
            "grid_gap": null,
            "grid_row": null,
            "grid_template_areas": null,
            "grid_template_columns": null,
            "grid_template_rows": null,
            "height": null,
            "justify_content": null,
            "justify_items": null,
            "left": null,
            "margin": null,
            "max_height": null,
            "max_width": null,
            "min_height": null,
            "min_width": null,
            "object_fit": null,
            "object_position": null,
            "order": null,
            "overflow": null,
            "overflow_x": null,
            "overflow_y": null,
            "padding": null,
            "right": null,
            "top": null,
            "visibility": null,
            "width": null
          }
        },
        "958da40162b94545b925c064d18d078b": {
          "model_module": "@jupyter-widgets/controls",
          "model_name": "DescriptionStyleModel",
          "model_module_version": "1.5.0",
          "state": {
            "_model_module": "@jupyter-widgets/controls",
            "_model_module_version": "1.5.0",
            "_model_name": "DescriptionStyleModel",
            "_view_count": null,
            "_view_module": "@jupyter-widgets/base",
            "_view_module_version": "1.2.0",
            "_view_name": "StyleView",
            "description_width": ""
          }
        },
        "a641718e48ed4b068bbcf071e827d061": {
          "model_module": "@jupyter-widgets/controls",
          "model_name": "HBoxModel",
          "model_module_version": "1.5.0",
          "state": {
            "_dom_classes": [],
            "_model_module": "@jupyter-widgets/controls",
            "_model_module_version": "1.5.0",
            "_model_name": "HBoxModel",
            "_view_count": null,
            "_view_module": "@jupyter-widgets/controls",
            "_view_module_version": "1.5.0",
            "_view_name": "HBoxView",
            "box_style": "",
            "children": [
              "IPY_MODEL_c04249aad38045b99aeff907b8e2994a",
              "IPY_MODEL_a0a6ec699a494a9f92dd64513d087a95",
              "IPY_MODEL_0cc78c5051f74e2c8997396f42de618f"
            ],
            "layout": "IPY_MODEL_8ba1dc1261924cae946fabf8de7c917b"
          }
        },
        "c04249aad38045b99aeff907b8e2994a": {
          "model_module": "@jupyter-widgets/controls",
          "model_name": "HTMLModel",
          "model_module_version": "1.5.0",
          "state": {
            "_dom_classes": [],
            "_model_module": "@jupyter-widgets/controls",
            "_model_module_version": "1.5.0",
            "_model_name": "HTMLModel",
            "_view_count": null,
            "_view_module": "@jupyter-widgets/controls",
            "_view_module_version": "1.5.0",
            "_view_name": "HTMLView",
            "description": "",
            "description_tooltip": null,
            "layout": "IPY_MODEL_574f9bb0fe9d4e47be980a430dc804fe",
            "placeholder": "​",
            "style": "IPY_MODEL_10c9350c159a42e2b6e802f06d17cec7",
            "value": "Map: 100%"
          }
        },
        "a0a6ec699a494a9f92dd64513d087a95": {
          "model_module": "@jupyter-widgets/controls",
          "model_name": "FloatProgressModel",
          "model_module_version": "1.5.0",
          "state": {
            "_dom_classes": [],
            "_model_module": "@jupyter-widgets/controls",
            "_model_module_version": "1.5.0",
            "_model_name": "FloatProgressModel",
            "_view_count": null,
            "_view_module": "@jupyter-widgets/controls",
            "_view_module_version": "1.5.0",
            "_view_name": "ProgressView",
            "bar_style": "success",
            "description": "",
            "description_tooltip": null,
            "layout": "IPY_MODEL_2e6896a7645e44a1aeb6c486065070a7",
            "max": 357,
            "min": 0,
            "orientation": "horizontal",
            "style": "IPY_MODEL_cbac5920fc1344d69007d5a653425435",
            "value": 357
          }
        },
        "0cc78c5051f74e2c8997396f42de618f": {
          "model_module": "@jupyter-widgets/controls",
          "model_name": "HTMLModel",
          "model_module_version": "1.5.0",
          "state": {
            "_dom_classes": [],
            "_model_module": "@jupyter-widgets/controls",
            "_model_module_version": "1.5.0",
            "_model_name": "HTMLModel",
            "_view_count": null,
            "_view_module": "@jupyter-widgets/controls",
            "_view_module_version": "1.5.0",
            "_view_name": "HTMLView",
            "description": "",
            "description_tooltip": null,
            "layout": "IPY_MODEL_73e24462d96e42048083ee81edc6ddad",
            "placeholder": "​",
            "style": "IPY_MODEL_187d6557d4ab4d148ebabc618679112f",
            "value": " 357/357 [00:00&lt;00:00, 1714.02 examples/s]"
          }
        },
        "8ba1dc1261924cae946fabf8de7c917b": {
          "model_module": "@jupyter-widgets/base",
          "model_name": "LayoutModel",
          "model_module_version": "1.2.0",
          "state": {
            "_model_module": "@jupyter-widgets/base",
            "_model_module_version": "1.2.0",
            "_model_name": "LayoutModel",
            "_view_count": null,
            "_view_module": "@jupyter-widgets/base",
            "_view_module_version": "1.2.0",
            "_view_name": "LayoutView",
            "align_content": null,
            "align_items": null,
            "align_self": null,
            "border": null,
            "bottom": null,
            "display": null,
            "flex": null,
            "flex_flow": null,
            "grid_area": null,
            "grid_auto_columns": null,
            "grid_auto_flow": null,
            "grid_auto_rows": null,
            "grid_column": null,
            "grid_gap": null,
            "grid_row": null,
            "grid_template_areas": null,
            "grid_template_columns": null,
            "grid_template_rows": null,
            "height": null,
            "justify_content": null,
            "justify_items": null,
            "left": null,
            "margin": null,
            "max_height": null,
            "max_width": null,
            "min_height": null,
            "min_width": null,
            "object_fit": null,
            "object_position": null,
            "order": null,
            "overflow": null,
            "overflow_x": null,
            "overflow_y": null,
            "padding": null,
            "right": null,
            "top": null,
            "visibility": null,
            "width": null
          }
        },
        "574f9bb0fe9d4e47be980a430dc804fe": {
          "model_module": "@jupyter-widgets/base",
          "model_name": "LayoutModel",
          "model_module_version": "1.2.0",
          "state": {
            "_model_module": "@jupyter-widgets/base",
            "_model_module_version": "1.2.0",
            "_model_name": "LayoutModel",
            "_view_count": null,
            "_view_module": "@jupyter-widgets/base",
            "_view_module_version": "1.2.0",
            "_view_name": "LayoutView",
            "align_content": null,
            "align_items": null,
            "align_self": null,
            "border": null,
            "bottom": null,
            "display": null,
            "flex": null,
            "flex_flow": null,
            "grid_area": null,
            "grid_auto_columns": null,
            "grid_auto_flow": null,
            "grid_auto_rows": null,
            "grid_column": null,
            "grid_gap": null,
            "grid_row": null,
            "grid_template_areas": null,
            "grid_template_columns": null,
            "grid_template_rows": null,
            "height": null,
            "justify_content": null,
            "justify_items": null,
            "left": null,
            "margin": null,
            "max_height": null,
            "max_width": null,
            "min_height": null,
            "min_width": null,
            "object_fit": null,
            "object_position": null,
            "order": null,
            "overflow": null,
            "overflow_x": null,
            "overflow_y": null,
            "padding": null,
            "right": null,
            "top": null,
            "visibility": null,
            "width": null
          }
        },
        "10c9350c159a42e2b6e802f06d17cec7": {
          "model_module": "@jupyter-widgets/controls",
          "model_name": "DescriptionStyleModel",
          "model_module_version": "1.5.0",
          "state": {
            "_model_module": "@jupyter-widgets/controls",
            "_model_module_version": "1.5.0",
            "_model_name": "DescriptionStyleModel",
            "_view_count": null,
            "_view_module": "@jupyter-widgets/base",
            "_view_module_version": "1.2.0",
            "_view_name": "StyleView",
            "description_width": ""
          }
        },
        "2e6896a7645e44a1aeb6c486065070a7": {
          "model_module": "@jupyter-widgets/base",
          "model_name": "LayoutModel",
          "model_module_version": "1.2.0",
          "state": {
            "_model_module": "@jupyter-widgets/base",
            "_model_module_version": "1.2.0",
            "_model_name": "LayoutModel",
            "_view_count": null,
            "_view_module": "@jupyter-widgets/base",
            "_view_module_version": "1.2.0",
            "_view_name": "LayoutView",
            "align_content": null,
            "align_items": null,
            "align_self": null,
            "border": null,
            "bottom": null,
            "display": null,
            "flex": null,
            "flex_flow": null,
            "grid_area": null,
            "grid_auto_columns": null,
            "grid_auto_flow": null,
            "grid_auto_rows": null,
            "grid_column": null,
            "grid_gap": null,
            "grid_row": null,
            "grid_template_areas": null,
            "grid_template_columns": null,
            "grid_template_rows": null,
            "height": null,
            "justify_content": null,
            "justify_items": null,
            "left": null,
            "margin": null,
            "max_height": null,
            "max_width": null,
            "min_height": null,
            "min_width": null,
            "object_fit": null,
            "object_position": null,
            "order": null,
            "overflow": null,
            "overflow_x": null,
            "overflow_y": null,
            "padding": null,
            "right": null,
            "top": null,
            "visibility": null,
            "width": null
          }
        },
        "cbac5920fc1344d69007d5a653425435": {
          "model_module": "@jupyter-widgets/controls",
          "model_name": "ProgressStyleModel",
          "model_module_version": "1.5.0",
          "state": {
            "_model_module": "@jupyter-widgets/controls",
            "_model_module_version": "1.5.0",
            "_model_name": "ProgressStyleModel",
            "_view_count": null,
            "_view_module": "@jupyter-widgets/base",
            "_view_module_version": "1.2.0",
            "_view_name": "StyleView",
            "bar_color": null,
            "description_width": ""
          }
        },
        "73e24462d96e42048083ee81edc6ddad": {
          "model_module": "@jupyter-widgets/base",
          "model_name": "LayoutModel",
          "model_module_version": "1.2.0",
          "state": {
            "_model_module": "@jupyter-widgets/base",
            "_model_module_version": "1.2.0",
            "_model_name": "LayoutModel",
            "_view_count": null,
            "_view_module": "@jupyter-widgets/base",
            "_view_module_version": "1.2.0",
            "_view_name": "LayoutView",
            "align_content": null,
            "align_items": null,
            "align_self": null,
            "border": null,
            "bottom": null,
            "display": null,
            "flex": null,
            "flex_flow": null,
            "grid_area": null,
            "grid_auto_columns": null,
            "grid_auto_flow": null,
            "grid_auto_rows": null,
            "grid_column": null,
            "grid_gap": null,
            "grid_row": null,
            "grid_template_areas": null,
            "grid_template_columns": null,
            "grid_template_rows": null,
            "height": null,
            "justify_content": null,
            "justify_items": null,
            "left": null,
            "margin": null,
            "max_height": null,
            "max_width": null,
            "min_height": null,
            "min_width": null,
            "object_fit": null,
            "object_position": null,
            "order": null,
            "overflow": null,
            "overflow_x": null,
            "overflow_y": null,
            "padding": null,
            "right": null,
            "top": null,
            "visibility": null,
            "width": null
          }
        },
        "187d6557d4ab4d148ebabc618679112f": {
          "model_module": "@jupyter-widgets/controls",
          "model_name": "DescriptionStyleModel",
          "model_module_version": "1.5.0",
          "state": {
            "_model_module": "@jupyter-widgets/controls",
            "_model_module_version": "1.5.0",
            "_model_name": "DescriptionStyleModel",
            "_view_count": null,
            "_view_module": "@jupyter-widgets/base",
            "_view_module_version": "1.2.0",
            "_view_name": "StyleView",
            "description_width": ""
          }
        }
      }
    }
  },
  "nbformat": 4,
  "nbformat_minor": 5
}