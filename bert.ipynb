{
  "cells": [
    {
      "cell_type": "markdown",
      "id": "d48d14c8",
      "metadata": {
        "id": "d48d14c8"
      },
      "source": [
        "# Fine Tuning A BERT Model With HuggingFace"
      ]
    },
    {
      "cell_type": "markdown",
      "id": "0f535e23",
      "metadata": {
        "id": "0f535e23"
      },
      "source": [
        "## 1. Introduction"
      ]
    },
    {
      "cell_type": "code",
      "source": [
        "# !pip install arxiv\n",
        "# !pip install evaluate"
      ],
      "metadata": {
        "id": "N5WtjwRliSOZ"
      },
      "id": "N5WtjwRliSOZ",
      "execution_count": null,
      "outputs": []
    },
    {
      "cell_type": "code",
      "execution_count": null,
      "id": "d6dbfe07",
      "metadata": {
        "id": "d6dbfe07"
      },
      "outputs": [],
      "source": [
        "import arxiv\n",
        "import pandas as pd\n",
        "from sklearn.model_selection import train_test_split\n",
        "from sklearn.preprocessing import LabelEncoder\n",
        "from google.colab import auth"
      ]
    },
    {
      "cell_type": "markdown",
      "source": [
        " Next I authenticate myself as my Google account user. This will be helpful since I will be storing the doccuments as json in [Google Cloud Storage](https://cloud.google.com/storage?hl=en) and authentication through [colab](https://colab.research.google.com/) means there's no extra steps for access to the data!"
      ],
      "metadata": {
        "id": "pxN8Y1rv6maU"
      },
      "id": "pxN8Y1rv6maU"
    },
    {
      "cell_type": "code",
      "source": [
        "auth.authenticate_user()"
      ],
      "metadata": {
        "id": "adSUO_bXimfj"
      },
      "id": "adSUO_bXimfj",
      "execution_count": null,
      "outputs": []
    },
    {
      "cell_type": "markdown",
      "id": "2dfff11c",
      "metadata": {
        "id": "2dfff11c"
      },
      "source": [
        "## 2. Collecting The Data"
      ]
    },
    {
      "cell_type": "code",
      "execution_count": null,
      "id": "703ecce2",
      "metadata": {
        "id": "703ecce2"
      },
      "outputs": [],
      "source": [
        "client = arxiv.Client()\n",
        "\n",
        "# artificial intelligence abstraccs\n",
        "ai_results = [{\n",
        "                \"id\": res.entry_id,\n",
        "                \"code\": res.primary_category,\n",
        "                \"text\": res.summary\n",
        "              } for res in client.results(\n",
        "                arxiv.Search(\n",
        "                    query = \"cat:cs.AI\",\n",
        "                    max_results = 1000\n",
        "                    )\n",
        "                )\n",
        "]\n",
        "\n",
        "# information retervial abstracts\n",
        "ir_results = [{\n",
        "                \"id\": res.entry_id,\n",
        "                \"code\": res.primary_category,\n",
        "                \"text\": res.summary\n",
        "              } for res in client.results(\n",
        "                arxiv.Search(\n",
        "                    query = \"cat:cs.IR\",\n",
        "                    max_results = 1000\n",
        "                    )\n",
        "                )\n",
        "]\n",
        "\n",
        "# robotics abstracts\n",
        "ro_results = [{\n",
        "                \"id\": res.entry_id,\n",
        "                \"code\": res.primary_category,\n",
        "                \"text\": res.summary\n",
        "              } for res in client.results(\n",
        "                arxiv.Search(\n",
        "                    query = \"cat:cs.RO\",\n",
        "                    max_results = 100\n",
        "                    )\n",
        "                )\n",
        "]"
      ]
    },
    {
      "cell_type": "markdown",
      "source": [
        "Now we combine them into a dataframe,"
      ],
      "metadata": {
        "id": "m0LpesN87UU1"
      },
      "id": "m0LpesN87UU1"
    },
    {
      "cell_type": "code",
      "execution_count": null,
      "id": "1cf93f8f",
      "metadata": {
        "id": "1cf93f8f"
      },
      "outputs": [],
      "source": [
        "df = pd.DataFrame(\n",
        "    ai_results + ir_results + ro_results\n",
        ")"
      ]
    },
    {
      "cell_type": "code",
      "execution_count": null,
      "id": "ac810e8b",
      "metadata": {
        "id": "ac810e8b"
      },
      "outputs": [],
      "source": [
        "labeler  = LabelEncoder()\n",
        "df = df.assign(label=labeler.fit_transform(df[\"code\"]))\n",
        "labeler.classes_"
      ]
    },
    {
      "cell_type": "code",
      "execution_count": null,
      "id": "d3b86092",
      "metadata": {
        "id": "d3b86092"
      },
      "outputs": [],
      "source": [
        "df.to_json(\"gs://harmon-arxiv/abstracts.json\")"
      ]
    },
    {
      "cell_type": "code",
      "execution_count": null,
      "id": "12d96b16",
      "metadata": {
        "id": "12d96b16"
      },
      "outputs": [],
      "source": [
        "# df = pd.read_json(\"gs://harmon-arxiv/abstracts.json\")"
      ]
    },
    {
      "cell_type": "code",
      "execution_count": null,
      "id": "1e582a95",
      "metadata": {
        "id": "1e582a95"
      },
      "outputs": [],
      "source": [
        "X_train, X_test, y_train, y_test = train_test_split(df[\"text\"],\n",
        "                                                    df[\"label\"],\n",
        "                                                     test_size=0.15,\n",
        "                                                     random_state=42,\n",
        "                                                     stratify=df[\"label\"]\n",
        "                                                     )"
      ]
    },
    {
      "cell_type": "code",
      "execution_count": null,
      "id": "df086d73",
      "metadata": {
        "id": "df086d73"
      },
      "outputs": [],
      "source": [
        "X_train, X_val, y_train, y_val = train_test_split(X_train,\n",
        "                                                  y_train,\n",
        "                                                  test_size=0.20,\n",
        "                                                  random_state=42,\n",
        "                                                  stratify=y_train)"
      ]
    },
    {
      "cell_type": "code",
      "execution_count": null,
      "id": "3fced93d",
      "metadata": {
        "id": "3fced93d"
      },
      "outputs": [],
      "source": [
        "train_df = pd.DataFrame({\"text\": X_train,\n",
        "                        \"label\": y_train})\n",
        "\n",
        "val_df = pd.DataFrame({\"text\": X_val,\n",
        "                        \"label\": y_val})\n",
        "\n",
        "test_df = pd.DataFrame({\"text\": X_test,\n",
        "                        \"label\": y_test})"
      ]
    },
    {
      "cell_type": "code",
      "execution_count": null,
      "id": "80691699",
      "metadata": {
        "id": "80691699"
      },
      "outputs": [],
      "source": [
        "train_df.shape"
      ]
    },
    {
      "cell_type": "code",
      "execution_count": null,
      "id": "96322da7",
      "metadata": {
        "id": "96322da7"
      },
      "outputs": [],
      "source": [
        "val_df.shape"
      ]
    },
    {
      "cell_type": "code",
      "execution_count": null,
      "id": "1af7d3ca",
      "metadata": {
        "id": "1af7d3ca"
      },
      "outputs": [],
      "source": [
        "test_df.shape"
      ]
    },
    {
      "cell_type": "code",
      "source": [],
      "metadata": {
        "id": "kmxqywEhgtG2"
      },
      "id": "kmxqywEhgtG2",
      "execution_count": null,
      "outputs": []
    },
    {
      "cell_type": "code",
      "execution_count": null,
      "id": "d9e7aaf3",
      "metadata": {
        "id": "d9e7aaf3"
      },
      "outputs": [],
      "source": [
        "train_df.to_json(\"gs://harmon-arxiv/train_abstracts.json\")\n",
        "\n",
        "val_df.to_json(\"gs://harmon-arxiv/val_abstracts.json\")\n",
        "\n",
        "test_df.to_json(\"gs://harmon-arxiv/test_abstracts.json\")"
      ]
    },
    {
      "cell_type": "code",
      "execution_count": null,
      "id": "070ceb3c",
      "metadata": {
        "id": "070ceb3c"
      },
      "outputs": [],
      "source": [
        "test_df[\"text\"].apply(lambda x: len(x)).to_frame(\"count\").query(\"count == 0\")"
      ]
    },
    {
      "cell_type": "code",
      "execution_count": null,
      "id": "370f9e81",
      "metadata": {
        "id": "370f9e81"
      },
      "outputs": [],
      "source": []
    },
    {
      "cell_type": "code",
      "source": [],
      "metadata": {
        "id": "ePVMnHiDZIFL"
      },
      "id": "ePVMnHiDZIFL",
      "execution_count": null,
      "outputs": []
    },
    {
      "cell_type": "markdown",
      "id": "4063b997",
      "metadata": {
        "id": "4063b997"
      },
      "source": [
        "## 2. HuggingFace Models"
      ]
    },
    {
      "cell_type": "code",
      "execution_count": null,
      "id": "8271bf28",
      "metadata": {
        "id": "8271bf28"
      },
      "outputs": [],
      "source": [
        "train_df = pd.read_json(\"gs://harmon-arxiv/train_abstracts.json\")\n",
        "\n",
        "val_df = pd.read_json(\"gs://harmon-arxiv/val_abstracts.json\")\n",
        "\n",
        "test_df = pd.read_json(\"gs://harmon-arxiv/test_abstracts.json\")"
      ]
    },
    {
      "cell_type": "code",
      "execution_count": null,
      "id": "f238d5e1",
      "metadata": {
        "id": "f238d5e1"
      },
      "outputs": [],
      "source": [
        "import pandas as pd\n",
        "from datasets import ClassLabel, Dataset, DatasetDict\n",
        "import torch\n",
        "from torch.optim import AdamW\n",
        "from transformers import AutoTokenizer, AutoModelForSequenceClassification, DataCollatorWithPadding\n",
        "from torch.utils.data import DataLoader\n",
        "import evaluate"
      ]
    },
    {
      "cell_type": "code",
      "source": [
        "train_df = pd.read_json(\"gs://train_abstracts.json\")\n",
        "val_df = pd.read_json(\"/val_abstracts.json\")"
      ],
      "metadata": {
        "id": "VpLAhdW0Zwf8"
      },
      "id": "VpLAhdW0Zwf8",
      "execution_count": null,
      "outputs": []
    },
    {
      "cell_type": "code",
      "execution_count": null,
      "id": "eec5c304",
      "metadata": {
        "id": "eec5c304"
      },
      "outputs": [],
      "source": [
        "# class_labels = ClassLabel(names=[\"artifical intelligence\", \"information retrival\", \"\"])"
      ]
    },
    {
      "cell_type": "code",
      "execution_count": null,
      "id": "07628128",
      "metadata": {
        "id": "07628128"
      },
      "outputs": [],
      "source": [
        "train_dataset = Dataset.from_pandas(train_df, preserve_index=False)\n",
        "val_dataset = Dataset.from_pandas(val_df, preserve_index=False)\n",
        "test_dataset = Dataset.from_pandas(test_df, preserve_index=False)aaa"
      ]
    },
    {
      "cell_type": "code",
      "execution_count": null,
      "id": "2e7236b2",
      "metadata": {
        "id": "2e7236b2"
      },
      "outputs": [],
      "source": [
        "dataset_dict = DatasetDict({\n",
        "    \"train\": train_dataset,\n",
        "    \"validation\": val_dataset,\n",
        "    \"test\": test_dataset\n",
        "})"
      ]
    },
    {
      "cell_type": "code",
      "execution_count": null,
      "id": "3d629335",
      "metadata": {
        "id": "3d629335"
      },
      "outputs": [],
      "source": []
    },
    {
      "cell_type": "code",
      "execution_count": null,
      "id": "20777189",
      "metadata": {
        "id": "20777189"
      },
      "outputs": [],
      "source": []
    },
    {
      "cell_type": "code",
      "execution_count": null,
      "id": "d9293cc0",
      "metadata": {
        "id": "d9293cc0"
      },
      "outputs": [],
      "source": [
        "\n",
        "checkpoint = \"distilbert/distilbert-base-uncased\"\n",
        "device=\"cuda\"\n",
        "tokenizer = AutoTokenizer.from_pretrained(checkpoint)\n",
        "model = AutoModelForSequenceClassification.from_pretrained(checkpoint, num_labels=3)\n",
        "roc_auc_score = evaluate.load(\"roc_auc\", \"multiclass\")\n"
      ]
    },
    {
      "cell_type": "code",
      "execution_count": null,
      "id": "932bd85c",
      "metadata": {
        "id": "932bd85c"
      },
      "outputs": [],
      "source": [
        "model = model.to(device)"
      ]
    },
    {
      "cell_type": "code",
      "execution_count": null,
      "id": "5f5c0316",
      "metadata": {
        "id": "5f5c0316"
      },
      "outputs": [],
      "source": [
        "\n",
        "def tokenize_function(example):\n",
        "    return tokenizer(example[\"text\"], truncation=True)\n",
        "\n",
        "\n",
        "tokenized_datasets = dataset_dict.map(tokenize_function, batched=True)\n",
        "data_collator = DataCollatorWithPadding(tokenizer=tokenizer)"
      ]
    },
    {
      "cell_type": "code",
      "execution_count": null,
      "id": "0e0d9e42",
      "metadata": {
        "id": "0e0d9e42"
      },
      "outputs": [],
      "source": [
        "tokenized_datasets = tokenized_datasets.remove_columns(\"text\")\n",
        "tokenized_datasets = tokenized_datasets.rename_column(\"label\", \"labels\")"
      ]
    },
    {
      "cell_type": "code",
      "execution_count": null,
      "id": "29c15dfc",
      "metadata": {
        "id": "29c15dfc"
      },
      "outputs": [],
      "source": [
        "tokenized_datasets = tokenized_datasets.with_format(\"torch\")"
      ]
    },
    {
      "cell_type": "code",
      "source": [],
      "metadata": {
        "id": "fJpiMsDzbO8t"
      },
      "id": "fJpiMsDzbO8t",
      "execution_count": null,
      "outputs": []
    },
    {
      "cell_type": "code",
      "execution_count": null,
      "id": "81dd6c5c",
      "metadata": {
        "id": "81dd6c5c"
      },
      "outputs": [],
      "source": [
        "val_dataloader = DataLoader(\n",
        "    tokenized_datasets[\"validation\"], batch_size=8, collate_fn=data_collator\n",
        ")"
      ]
    },
    {
      "cell_type": "code",
      "execution_count": null,
      "id": "7dc37cbe",
      "metadata": {
        "id": "7dc37cbe"
      },
      "outputs": [],
      "source": [
        "model.eval()\n",
        "for batch in val_dataloader:\n",
        "    batch = {k: v.to(device) for k, v in batch.items()}\n",
        "    with torch.no_grad():\n",
        "        outputs = model(**batch)\n",
        "        scores = torch.nn.functional.softmax(outputs.logits, dim=-1)\n",
        "        roc_auc_score.add_batch(references=batch[\"labels\"],\n",
        "                               prediction_scores=scores)"
      ]
    },
    {
      "cell_type": "code",
      "execution_count": null,
      "id": "868f72a5",
      "metadata": {
        "id": "868f72a5"
      },
      "outputs": [],
      "source": [
        "roc_auc_score.compute(multi_class=\"ovr\")"
      ]
    },
    {
      "cell_type": "markdown",
      "id": "468bf75f",
      "metadata": {
        "id": "468bf75f"
      },
      "source": [
        "## 3. Fine Tuning DistilBERT"
      ]
    },
    {
      "cell_type": "code",
      "execution_count": null,
      "id": "6b7a95d2",
      "metadata": {
        "id": "6b7a95d2"
      },
      "outputs": [],
      "source": [
        "model.device"
      ]
    },
    {
      "cell_type": "code",
      "execution_count": null,
      "id": "66c750df",
      "metadata": {
        "id": "66c750df"
      },
      "outputs": [],
      "source": []
    },
    {
      "cell_type": "code",
      "execution_count": null,
      "id": "dd01eccc",
      "metadata": {
        "id": "dd01eccc"
      },
      "outputs": [],
      "source": []
    },
    {
      "cell_type": "code",
      "execution_count": null,
      "id": "e0f54b5a",
      "metadata": {
        "id": "e0f54b5a"
      },
      "outputs": [],
      "source": [
        "def compute_metrics(eval_preds):\n",
        "    roc_auc_score = evaluate.load(\"roc_auc\", \"multiclass\")\n",
        "    preds, labels = eval_preds\n",
        "    scores = torch.nn.functional.softmax(\n",
        "                        torch.tensor(preds), dim=-1)\n",
        "\n",
        "    return roc_auc_score.compute(prediction_scores=scores, references=labels, multi_class=\"ovr\")"
      ]
    },
    {
      "cell_type": "code",
      "execution_count": null,
      "id": "a16efd79",
      "metadata": {
        "id": "a16efd79"
      },
      "outputs": [],
      "source": []
    },
    {
      "cell_type": "code",
      "execution_count": null,
      "id": "543a1b53",
      "metadata": {
        "id": "543a1b53"
      },
      "outputs": [],
      "source": [
        "from transformers import TrainingArguments\n",
        "\n",
        "training_args = TrainingArguments(\n",
        "    output_dir=\"./results\",\n",
        "    learning_rate=2e-4,\n",
        "    per_device_train_batch_size=8,\n",
        "    per_device_eval_batch_size=8,\n",
        "    num_train_epochs=1,\n",
        "    weight_decay=0.01,\n",
        "    eval_strategy=\"epoch\",\n",
        "    logging_strategy=\"epoch\",\n",
        "    report_to=\"none\"\n",
        ")"
      ]
    },
    {
      "cell_type": "code",
      "execution_count": null,
      "id": "eac0ccb6",
      "metadata": {
        "id": "eac0ccb6"
      },
      "outputs": [],
      "source": [
        "from transformers import Trainer\n",
        "\n",
        "trainer = Trainer(\n",
        "    model,\n",
        "    training_args,\n",
        "    train_dataset=tokenized_datasets[\"train\"],\n",
        "    eval_dataset=tokenized_datasets[\"validation\"],\n",
        "    data_collator=data_collator,\n",
        "    processing_class=tokenizer,\n",
        "    compute_metrics=compute_metrics\n",
        ")\n"
      ]
    },
    {
      "cell_type": "code",
      "execution_count": null,
      "id": "3d0574ca",
      "metadata": {
        "id": "3d0574ca"
      },
      "outputs": [],
      "source": [
        "trainer.train()"
      ]
    },
    {
      "cell_type": "code",
      "execution_count": null,
      "id": "00084c07",
      "metadata": {
        "id": "00084c07"
      },
      "outputs": [],
      "source": [
        "trainer.save_model(\"temp\")"
      ]
    },
    {
      "cell_type": "code",
      "execution_count": null,
      "id": "32c887da",
      "metadata": {
        "id": "32c887da"
      },
      "outputs": [],
      "source": [
        "trainer.load   (\"temp\")"
      ]
    },
    {
      "cell_type": "code",
      "execution_count": null,
      "id": "98daa73e",
      "metadata": {
        "id": "98daa73e"
      },
      "outputs": [],
      "source": [
        "model = trainer.model\n",
        "roc_auc_score = evaluate.load(\"roc_auc\", \"multiclass\")\n"
      ]
    },
    {
      "cell_type": "code",
      "execution_count": null,
      "id": "70353354",
      "metadata": {
        "id": "70353354"
      },
      "outputs": [],
      "source": [
        "\n",
        "for batch in val_dataloader:\n",
        "    batch = {k: v.to(device) for k, v in batch.items()}\n",
        "    with torch.no_grad():\n",
        "        outputs = model(**batch)\n",
        "        scores = torch.nn.functional.softmax(outputs.logits, dim=-1)\n",
        "        roc_auc_score.add_batch(references=batch[\"labels\"],\n",
        "                               prediction_scores=scores)"
      ]
    },
    {
      "cell_type": "code",
      "source": [],
      "metadata": {
        "id": "wqT2q7qBb22E"
      },
      "id": "wqT2q7qBb22E",
      "execution_count": null,
      "outputs": []
    },
    {
      "cell_type": "code",
      "source": [
        "roc_auc_score.compute(multi_class=\"ovr\")"
      ],
      "metadata": {
        "id": "DAp8ZTEVb-vu"
      },
      "id": "DAp8ZTEVb-vu",
      "execution_count": null,
      "outputs": []
    },
    {
      "cell_type": "code",
      "execution_count": null,
      "id": "b69534af",
      "metadata": {
        "id": "b69534af"
      },
      "outputs": [],
      "source": [
        "predictions = torch.tensor(trainer.predict(tokenized_datasets[\"validation\"]))\n",
        "\n",
        "scores = torch.nn.functional.softmax(\n",
        "    torch.tensor(predictions.predictions), dim=-1)"
      ]
    },
    {
      "cell_type": "code",
      "execution_count": null,
      "id": "e67c3232",
      "metadata": {
        "id": "e67c3232"
      },
      "outputs": [],
      "source": [
        "roc_auc_score.compute(references=test_dataset[\"label\"],\n",
        "                      prediction_scores=scores,\n",
        "                      multi_class=\"ovr\")"
      ]
    },
    {
      "cell_type": "code",
      "execution_count": null,
      "id": "32b87072",
      "metadata": {
        "id": "32b87072"
      },
      "outputs": [],
      "source": []
    },
    {
      "cell_type": "code",
      "execution_count": null,
      "id": "5790733b",
      "metadata": {
        "id": "5790733b"
      },
      "outputs": [],
      "source": []
    }
  ],
  "metadata": {
    "kernelspec": {
      "display_name": "Python 3",
      "name": "python3"
    },
    "language_info": {
      "codemirror_mode": {
        "name": "ipython",
        "version": 3
      },
      "file_extension": ".py",
      "mimetype": "text/x-python",
      "name": "python",
      "nbconvert_exporter": "python",
      "pygments_lexer": "ipython3",
      "version": "3.12.11"
    },
    "colab": {
      "provenance": [],
      "gpuType": "T4"
    },
    "accelerator": "GPU"
  },
  "nbformat": 4,
  "nbformat_minor": 5
}