{
  "cells": [
    {
      "cell_type": "markdown",
      "id": "d48d14c8",
      "metadata": {
        "id": "d48d14c8"
      },
      "source": [
        "# Fine Tuning A BERT Model With HuggingFace"
      ]
    },
    {
      "cell_type": "markdown",
      "id": "0f535e23",
      "metadata": {
        "id": "0f535e23"
      },
      "source": [
        "## 1. Introduction"
      ]
    },
    {
      "cell_type": "code",
      "execution_count": 26,
      "id": "N5WtjwRliSOZ",
      "metadata": {
        "colab": {
          "base_uri": "https://localhost:8080/"
        },
        "id": "N5WtjwRliSOZ",
        "outputId": "244f87cf-9a53-42d1-e4ee-5d139bff34bd"
      },
      "outputs": [],
      "source": [
        "# !pip install arxiv\n",
        "# !pip install evaluate"
      ]
    },
    {
      "cell_type": "code",
      "execution_count": null,
      "id": "d6dbfe07",
      "metadata": {
        "id": "d6dbfe07"
      },
      "outputs": [],
      "source": []
    },
    {
      "cell_type": "markdown",
      "id": "pxN8Y1rv6maU",
      "metadata": {
        "id": "pxN8Y1rv6maU"
      },
      "source": [
        " Next I authenticate myself as my Google account user. This will be helpful since I will be storing the doccuments as json in [Google Cloud Storage](https://cloud.google.com/storage?hl=en) and authentication through [colab](https://colab.research.google.com/) means there's no extra steps for access to the data!"
      ]
    },
    {
      "cell_type": "code",
      "execution_count": null,
      "id": "adSUO_bXimfj",
      "metadata": {
        "id": "adSUO_bXimfj"
      },
      "outputs": [],
      "source": [
        "import google.colab as colab\n",
        "colab.auth.authenticate_user()"
      ]
    },
    {
      "cell_type": "markdown",
      "id": "2dfff11c",
      "metadata": {
        "id": "2dfff11c"
      },
      "source": [
        "## 2. Collecting The Data\n",
        "\n",
        "The first thing I need to do is collect data. In a [prior post](https://michael-harmon.com/blog/NLP1.html) I got documents for classification by collecting paper abstracts from [arxiv](https://arxiv.org/). I was going to reuse those same documents, but I lost them over the years. So, instead I'll use the [arixv package](https://lukasschwab.me/arxiv.py/arxiv.html) to create a new dataset for classification. Instead of 4 classes I'll use 3 and still make the datasets imbalanced. The 3 classes I'll use are the topics of the papers which I chose to be 'Artificial Intelligence', 'Information Retrieval' and 'Robotics'. \n",
        "\n",
        "First I collect 1,000 papers on 'Ariticial Intelligence',"
      ]
    },
    {
      "cell_type": "code",
      "execution_count": 4,
      "id": "703ecce2",
      "metadata": {
        "id": "703ecce2"
      },
      "outputs": [],
      "source": [
        "import arxiv\n",
        "import pandas as pd\n",
        "from sklearn.model_selection import train_test_split\n",
        "from sklearn.preprocessing import LabelEncoder\n",
        "\n",
        "client = arxiv.Client()\n",
        "\n",
        "# artificial intelligence abstraccs\n",
        "ai_results = [{\n",
        "                \"id\": res.entry_id,\n",
        "                \"code\": res.primary_category,\n",
        "                \"text\": res.summary\n",
        "              } for res in client.results(\n",
        "                arxiv.Search(\n",
        "                    query = \"cat:cs.AI\",\n",
        "                    max_results = 1000\n",
        "                    )\n",
        "                )\n",
        "]"
      ]
    },
    {
      "cell_type": "markdown",
      "id": "DHq9DNvCkjx1",
      "metadata": {
        "id": "DHq9DNvCkjx1"
      },
      "source": [
        "An example of one document is below,"
      ]
    },
    {
      "cell_type": "code",
      "execution_count": 20,
      "id": "FETPQi3ykVt1",
      "metadata": {
        "colab": {
          "base_uri": "https://localhost:8080/",
          "height": 0
        },
        "id": "FETPQi3ykVt1",
        "outputId": "60128efd-c55c-4967-e1d9-901ed11b418b"
      },
      "outputs": [
        {
          "data": {
            "text/plain": [
              "{'id': 'http://arxiv.org/abs/cs/9308101v1',\n",
              " 'code': 'cs.AI',\n",
              " 'text': 'Because of their occasional need to return to shallow points in a search\\ntree, existing backtracking methods can sometimes erase meaningful progress\\ntoward solving a search problem. In this paper, we present a method by which\\nbacktrack points can be moved deeper in the search space, thereby avoiding this\\ndifficulty. The technique developed is a variant of dependency-directed\\nbacktracking that uses only polynomial space while still providing useful\\ncontrol information and retaining the completeness guarantees provided by\\nearlier approaches.'}"
            ]
          },
          "execution_count": 20,
          "metadata": {},
          "output_type": "execute_result"
        }
      ],
      "source": [
        "ai_results[0]"
      ]
    },
    {
      "cell_type": "markdown",
      "id": "ecb2c4ba",
      "metadata": {},
      "source": [
        "The `id` is the url of the paper, and the `code` is the class label. The text is the abstract of the paper. I repeat the process to download 1,000 papers on 'Information Retrieval' and 100 on 'Robotics'"
      ]
    },
    {
      "cell_type": "code",
      "execution_count": 22,
      "id": "Wi8_GjWDkT6P",
      "metadata": {
        "id": "Wi8_GjWDkT6P"
      },
      "outputs": [],
      "source": [
        "# information retervial abstracts\n",
        "ir_results = [{\n",
        "                \"id\": res.entry_id,\n",
        "                \"code\": res.primary_category,\n",
        "                \"text\": res.summary\n",
        "              } for res in client.results(\n",
        "                arxiv.Search(\n",
        "                    query = \"cat:cs.IR\",\n",
        "                    max_results = 1000\n",
        "                    )\n",
        "                )\n",
        "]\n",
        "\n",
        "# robotics abstracts\n",
        "ro_results = [{\n",
        "                \"id\": res.entry_id,\n",
        "                \"code\": res.primary_category,\n",
        "                \"text\": res.summary\n",
        "              } for res in client.results(\n",
        "                arxiv.Search(\n",
        "                    query = \"cat:cs.RO\",\n",
        "                    max_results = 100\n",
        "                    )\n",
        "                )\n",
        "]"
      ]
    },
    {
      "cell_type": "markdown",
      "id": "m0LpesN87UU1",
      "metadata": {
        "id": "m0LpesN87UU1"
      },
      "source": [
        "Now we combine them into a dataframe,"
      ]
    },
    {
      "cell_type": "code",
      "execution_count": null,
      "id": "1cf93f8f",
      "metadata": {
        "id": "1cf93f8f"
      },
      "outputs": [],
      "source": [
        "df = pd.DataFrame(\n",
        "    ai_results + ir_results + ro_results\n",
        ")"
      ]
    },
    {
      "cell_type": "markdown",
      "id": "9oomEMA0kf7-",
      "metadata": {
        "id": "9oomEMA0kf7-"
      },
      "source": [
        "Now looking at the contents of the dataframe,"
      ]
    },
    {
      "cell_type": "code",
      "execution_count": 14,
      "id": "81a7184b",
      "metadata": {},
      "outputs": [
        {
          "data": {
            "text/html": [
              "<div>\n",
              "<style scoped>\n",
              "    .dataframe tbody tr th:only-of-type {\n",
              "        vertical-align: middle;\n",
              "    }\n",
              "\n",
              "    .dataframe tbody tr th {\n",
              "        vertical-align: top;\n",
              "    }\n",
              "\n",
              "    .dataframe thead th {\n",
              "        text-align: right;\n",
              "    }\n",
              "</style>\n",
              "<table border=\"1\" class=\"dataframe\">\n",
              "  <thead>\n",
              "    <tr style=\"text-align: right;\">\n",
              "      <th></th>\n",
              "      <th>id</th>\n",
              "      <th>code</th>\n",
              "      <th>text</th>\n",
              "    </tr>\n",
              "  </thead>\n",
              "  <tbody>\n",
              "    <tr>\n",
              "      <th>0</th>\n",
              "      <td>http://arxiv.org/abs/cs/9308101v1</td>\n",
              "      <td>cs.AI</td>\n",
              "      <td>Because of their occasional need to return to ...</td>\n",
              "    </tr>\n",
              "    <tr>\n",
              "      <th>1</th>\n",
              "      <td>http://arxiv.org/abs/cs/9308102v1</td>\n",
              "      <td>cs.AI</td>\n",
              "      <td>Market price systems constitute a well-underst...</td>\n",
              "    </tr>\n",
              "  </tbody>\n",
              "</table>\n",
              "</div>"
            ],
            "text/plain": [
              "                                  id   code  \\\n",
              "0  http://arxiv.org/abs/cs/9308101v1  cs.AI   \n",
              "1  http://arxiv.org/abs/cs/9308102v1  cs.AI   \n",
              "\n",
              "                                                text  \n",
              "0  Because of their occasional need to return to ...  \n",
              "1  Market price systems constitute a well-underst...  "
            ]
          },
          "execution_count": 14,
          "metadata": {},
          "output_type": "execute_result"
        }
      ],
      "source": [
        "df.head(2)"
      ]
    },
    {
      "cell_type": "markdown",
      "id": "9f68da15",
      "metadata": {},
      "source": [
        "I want to be able to predict the category of the abstract based of the text. This means we need to conver the category into a numerical value. [Scikit-learn's LabelEncoder](https://scikit-learn.org/stable/modules/generated/sklearn.preprocessing.LabelEncoder.html) is the tool for the job,"
      ]
    },
    {
      "cell_type": "code",
      "execution_count": 16,
      "id": "ac810e8b",
      "metadata": {
        "id": "ac810e8b"
      },
      "outputs": [],
      "source": [
        "labeler  = LabelEncoder()\n",
        "df = df.assign(label=labeler.fit_transform(df[\"code\"]))"
      ]
    },
    {
      "cell_type": "markdown",
      "id": "eac685cd",
      "metadata": {},
      "source": [
        "Now each text has an associated numerical value in the column `label` with values based on the `code` value,"
      ]
    },
    {
      "cell_type": "code",
      "execution_count": 17,
      "id": "b6646470",
      "metadata": {},
      "outputs": [
        {
          "data": {
            "text/html": [
              "<div>\n",
              "<style scoped>\n",
              "    .dataframe tbody tr th:only-of-type {\n",
              "        vertical-align: middle;\n",
              "    }\n",
              "\n",
              "    .dataframe tbody tr th {\n",
              "        vertical-align: top;\n",
              "    }\n",
              "\n",
              "    .dataframe thead th {\n",
              "        text-align: right;\n",
              "    }\n",
              "</style>\n",
              "<table border=\"1\" class=\"dataframe\">\n",
              "  <thead>\n",
              "    <tr style=\"text-align: right;\">\n",
              "      <th></th>\n",
              "      <th>id</th>\n",
              "      <th>code</th>\n",
              "      <th>text</th>\n",
              "      <th>label</th>\n",
              "    </tr>\n",
              "  </thead>\n",
              "  <tbody>\n",
              "    <tr>\n",
              "      <th>0</th>\n",
              "      <td>http://arxiv.org/abs/cs/9308101v1</td>\n",
              "      <td>cs.AI</td>\n",
              "      <td>Because of their occasional need to return to ...</td>\n",
              "      <td>0</td>\n",
              "    </tr>\n",
              "    <tr>\n",
              "      <th>1</th>\n",
              "      <td>http://arxiv.org/abs/cs/9308102v1</td>\n",
              "      <td>cs.AI</td>\n",
              "      <td>Market price systems constitute a well-underst...</td>\n",
              "      <td>0</td>\n",
              "    </tr>\n",
              "  </tbody>\n",
              "</table>\n",
              "</div>"
            ],
            "text/plain": [
              "                                  id   code  \\\n",
              "0  http://arxiv.org/abs/cs/9308101v1  cs.AI   \n",
              "1  http://arxiv.org/abs/cs/9308102v1  cs.AI   \n",
              "\n",
              "                                                text  label  \n",
              "0  Because of their occasional need to return to ...      0  \n",
              "1  Market price systems constitute a well-underst...      0  "
            ]
          },
          "execution_count": 17,
          "metadata": {},
          "output_type": "execute_result"
        }
      ],
      "source": [
        "df.head(2)"
      ]
    },
    {
      "cell_type": "markdown",
      "id": "ccaae73c",
      "metadata": {},
      "source": [
        "The numerical value for each code is given by the order in the `classes_` attribute of the labler. This means mapping between the code and the label can be found by the following,"
      ]
    },
    {
      "cell_type": "code",
      "execution_count": 19,
      "id": "0ec3501b",
      "metadata": {},
      "outputs": [
        {
          "data": {
            "text/plain": [
              "{'cs.AI': 0, 'cs.IR': 1, 'cs.RO': 2}"
            ]
          },
          "execution_count": 19,
          "metadata": {},
          "output_type": "execute_result"
        }
      ],
      "source": [
        "{v:k for k,v in enumerate(labeler.classes_)}"
      ]
    },
    {
      "cell_type": "markdown",
      "id": "tNSln9rTksz6",
      "metadata": {
        "id": "tNSln9rTksz6"
      },
      "source": [
        "Next I need to break the datasets into train, validation and test sets. I can do this with [Scikit-Learn's train_test_split](https://scikit-learn.org/stable/modules/generated/sklearn.model_selection.train_test_split.html) function."
      ]
    },
    {
      "cell_type": "code",
      "execution_count": 20,
      "id": "1e582a95",
      "metadata": {
        "id": "1e582a95"
      },
      "outputs": [],
      "source": [
        "X_train, X_test, y_train, y_test = train_test_split(\n",
        "                                            df[\"text\"],\n",
        "                                            df[\"label\"],\n",
        "                                            test_size=0.15,\n",
        "                                            random_state=42,\n",
        "                                            stratify=df[\"label\"])\n",
        "\n",
        "X_train, X_val, y_train, y_val = train_test_split(X_train,\n",
        "                                                  y_train,\n",
        "                                                  test_size=0.20,\n",
        "                                                  random_state=42,\n",
        "                                                  stratify=y_train)"
      ]
    },
    {
      "cell_type": "markdown",
      "id": "oEGg_q3GkwQv",
      "metadata": {
        "id": "oEGg_q3GkwQv"
      },
      "source": [
        "The size of the datsets are,"
      ]
    },
    {
      "cell_type": "code",
      "execution_count": 23,
      "id": "df086d73",
      "metadata": {
        "id": "df086d73"
      },
      "outputs": [
        {
          "data": {
            "text/plain": [
              "((1428,), (357,), (315,))"
            ]
          },
          "execution_count": 23,
          "metadata": {},
          "output_type": "execute_result"
        }
      ],
      "source": [
        "X_train.shape, X_val.shape, X_test.shape"
      ]
    },
    {
      "cell_type": "markdown",
      "id": "18dda8e0",
      "metadata": {},
      "source": [
        "These are small datasets, but luckily using finetuning a high peforming model can still be obtained!\n",
        "\n",
        "The last thing to do before modeling is combine these back into one dataframe and save them to [Google Cloud Storage](https://cloud.google.com/storage?hl=en) so that I can come back to this project over time and work with the same data."
      ]
    },
    {
      "cell_type": "code",
      "execution_count": null,
      "id": "3fced93d",
      "metadata": {
        "id": "3fced93d"
      },
      "outputs": [],
      "source": [
        "train_df = pd.DataFrame({\"text\": X_train, \"label\": y_train})\n",
        "train_df.to_json(\"gs://harmon-arxiv/train_abstracts.json\")\n",
        "\n",
        "val_df   = pd.DataFrame({\"text\": X_val, \"label\": y_val})\n",
        "val_df.to_json(\"gs://harmon-arxiv/val_abstracts.json\")\n",
        "\n",
        "test_df =  pd.DataFrame({\"text\": X_test, \"label\": y_test})\n",
        "test_df.to_json(\"gs://harmon-arxiv/test_abstracts.json\")"
      ]
    },
    {
      "cell_type": "markdown",
      "id": "4063b997",
      "metadata": {
        "id": "4063b997"
      },
      "source": [
        "## 2. HuggingFace Models\n",
        "\n",
        "Now that I have the data in Google Cloud Storage we begin the fine tuning of our model. First thing I do is import Pandas for reloading the data from cloud storage, and the necessary PyTorch and Hugging Face modules."
      ]
    },
    {
      "cell_type": "code",
      "execution_count": 45,
      "id": "bNCDh3hKuPY_",
      "metadata": {
        "id": "bNCDh3hKuPY_"
      },
      "outputs": [],
      "source": [
        "import pandas as pd\n",
        "\n",
        "# PyTorch imports\n",
        "import torch\n",
        "from torch.utils.data import DataLoader\n",
        "from torch.optim import AdamW\n",
        "\n",
        "# Hugging Face imports\n",
        "import transformers\n",
        "from transformers import AutoTokenizer, AutoModelForSequenceClassification, DataCollatorWithPadding\n",
        "from datasets import Dataset, DatasetDict\n",
        "import evaluate"
      ]
    },
    {
      "cell_type": "markdown",
      "id": "cTmcavjxuOls",
      "metadata": {
        "id": "cTmcavjxuOls"
      },
      "source": [
        "Now I can load the datasets from cloud storage as Pandas dataframes and then convert them to [Hugging Face Datasets](https://huggingface.co/docs/datasets/en/index) so they can be used by the Transformer model:"
      ]
    },
    {
      "cell_type": "code",
      "execution_count": 10,
      "id": "8271bf28",
      "metadata": {
        "id": "8271bf28"
      },
      "outputs": [],
      "source": [
        "train_df = pd.read_json(\"gs://harmon-arxiv/train_abstracts.json\")\n",
        "val_df = pd.read_json(\"gs://harmon-arxiv/val_abstracts.json\")\n",
        "test_df = pd.read_json(\"gs://harmon-arxiv/test_abstracts.json\")"
      ]
    },
    {
      "cell_type": "markdown",
      "id": "Zv_uE5sG1ri9",
      "metadata": {
        "id": "Zv_uE5sG1ri9"
      },
      "source": [
        "Then conver them to Dataset objects:"
      ]
    },
    {
      "cell_type": "code",
      "execution_count": 11,
      "id": "07628128",
      "metadata": {
        "id": "07628128"
      },
      "outputs": [],
      "source": [
        "train_dataset = Dataset.from_pandas(train_df, preserve_index=False)\n",
        "val_dataset = Dataset.from_pandas(val_df, preserve_index=False)\n",
        "test_dataset = Dataset.from_pandas(test_df, preserve_index=False)"
      ]
    },
    {
      "cell_type": "markdown",
      "id": "0Yeh1XFy1wbc",
      "metadata": {
        "id": "0Yeh1XFy1wbc"
      },
      "source": [
        "Finally I will combine them into a [DatasetDict](https://huggingface.co/docs/datasets/v4.0.0/en/package_reference/main_classes#datasets.DatasetDict) obect. This is not necessary, but it is convenient since applying a transformation to the DatasetDict applies it all the Datasets. This avoids repeating the same transformations individually across each datasets."
      ]
    },
    {
      "cell_type": "code",
      "execution_count": 12,
      "id": "2e7236b2",
      "metadata": {
        "id": "2e7236b2"
      },
      "outputs": [],
      "source": [
        "dataset_dict = DatasetDict({\n",
        "    \"train\": train_dataset,\n",
        "    \"validation\": val_dataset,\n",
        "    \"test\": test_dataset\n",
        "})"
      ]
    },
    {
      "cell_type": "markdown",
      "id": "_xLCsacu2evg",
      "metadata": {
        "id": "_xLCsacu2evg"
      },
      "source": [
        "Next I download the [DistilBERT](https://huggingface.co/docs/transformers/en/model_doc/distilbert) model from [HuggingFace's Model Hub](https://huggingface.co/models) as well as its associated Tokenizer. To do so, I use the [AutoTokenizer and AutoModelForSequenceClassification classes](https://huggingface.co/docs/transformers/en/model_doc/auto) as they allow me to swap out models easily. Notice that the tokenizer has to match the model and we have to use the [from_pretrained class methods](https://www.geeksforgeeks.org/python/classmethod-in-python/) for each class. This ensures that the tokenizer and weights for the model are both initialized from the same point in pre-training. Lastly, notice move the model to the GPU and that I have to put the number of classes in AutoModelForSequenceClassification during instantiation. This adds a linear layer with softmax on top of the foundational model."
      ]
    },
    {
      "cell_type": "code",
      "execution_count": 56,
      "id": "VmgyHuk72XiA",
      "metadata": {
        "colab": {
          "base_uri": "https://localhost:8080/"
        },
        "id": "VmgyHuk72XiA",
        "outputId": "7cf0d14e-f471-448a-ccc9-1e4ef26596b6"
      },
      "outputs": [
        {
          "name": "stderr",
          "output_type": "stream",
          "text": [
            "Some weights of DistilBertForSequenceClassification were not initialized from the model checkpoint at distilbert/distilbert-base-uncased and are newly initialized: ['classifier.bias', 'classifier.weight', 'pre_classifier.bias', 'pre_classifier.weight']\n",
            "You should probably TRAIN this model on a down-stream task to be able to use it for predictions and inference.\n"
          ]
        }
      ],
      "source": [
        "checkpoint = \"distilbert/distilbert-base-uncased\"\n",
        "device=\"cuda\"\n",
        "\n",
        "tokenizer = AutoTokenizer.from_pretrained(checkpoint)\n",
        "model = AutoModelForSequenceClassification.from_pretrained(checkpoint, num_labels=3)\n",
        "model = model.to(device)"
      ]
    },
    {
      "cell_type": "markdown",
      "id": "S1y2BmCAICE2",
      "metadata": {
        "id": "S1y2BmCAICE2"
      },
      "source": []
    },
    {
      "cell_type": "code",
      "execution_count": 55,
      "id": "TpYCkXbKIC_I",
      "metadata": {
        "id": "TpYCkXbKIC_I"
      },
      "outputs": [],
      "source": [
        "type(model)"
      ]
    },
    {
      "cell_type": "markdown",
      "id": "BXPD4-kcJfah",
      "metadata": {
        "id": "BXPD4-kcJfah"
      },
      "source": [
        "```\n",
        "transformers.models.distilbert.modeling_distilbert.DistilBertForSequenceClassification\n",
        "```"
      ]
    },
    {
      "cell_type": "markdown",
      "id": "IThDzD8H4kBq",
      "metadata": {
        "id": "IThDzD8H4kBq"
      },
      "source": [
        "You can confirm the last layer by printing the model architecture\n",
        "\n",
        "```\n",
        "print(model)\n",
        "```\n",
        "which will return,\n",
        "\n",
        "\n",
        "```\n",
        "DistilBertForSequenceClassification(\n",
        "  (distilbert): DistilBertModel(\n",
        "    (embeddings): Embeddings(\n",
        "      (word_embeddings): Embedding(30522, 768, padding_idx=0)\n",
        "      (position_embeddings): Embedding(512, 768)\n",
        "      (LayerNorm): LayerNorm((768,), eps=1e-12, elementwise_affine=True)\n",
        "      (dropout): Dropout(p=0.1, inplace=False)\n",
        "    )\n",
        "    (transformer): Transformer(\n",
        "      (layer): ModuleList(\n",
        "        (0-5): 6 x TransformerBlock(\n",
        "          (attention): DistilBertSdpaAttention(\n",
        "            (dropout): Dropout(p=0.1, inplace=False)\n",
        "            (q_lin): Linear(in_features=768, out_features=768, bias=True)\n",
        "            (k_lin): Linear(in_features=768, out_features=768, bias=True)\n",
        "            (v_lin): Linear(in_features=768, out_features=768, bias=True)\n",
        "            (out_lin): Linear(in_features=768, out_features=768, bias=True)\n",
        "          )\n",
        "          (sa_layer_norm): LayerNorm((768,), eps=1e-12, elementwise_affine=True)\n",
        "          (ffn): FFN(\n",
        "            (dropout): Dropout(p=0.1, inplace=False)\n",
        "            (lin1): Linear(in_features=768, out_features=3072, bias=True)\n",
        "            (lin2): Linear(in_features=3072, out_features=768, bias=True)\n",
        "            (activation): GELUActivation()\n",
        "          )\n",
        "          (output_layer_norm): LayerNorm((768,), eps=1e-12, elementwise_affine=True)\n",
        "        )\n",
        "      )\n",
        "    )\n",
        "  )\n",
        "  (pre_classifier): Linear(in_features=768, out_features=768, bias=True)\n",
        "  (classifier): Linear(in_features=768, out_features=3, bias=True)\n",
        "  (dropout): Dropout(p=0.2, inplace=False)\n",
        ")\n",
        "```\n",
        "\n",
        "The \"classifier\" layer is the head that was added and we can confirm that the output is 3 classes.\n",
        "\n",
        "Next I load the metric to optimize the model using the [evaluate](https://huggingface.co/docs/evaluate/en/index) library. I chose a multiclass [ROC-AUC](https://en.wikipedia.org/wiki/Receiver_operating_characteristic) metric to measure the perofrmance of the model. This is a pretty standard metric for classification problems since it in essence measures \"how well the model call separate the classes.\" Though it should be noted the ROC-AUC curve can be misleading when you have imbalanced classes as I discussed in a [prior post](https://michael-harmon.com/blog/NLP1.html).\n"
      ]
    },
    {
      "cell_type": "code",
      "execution_count": 57,
      "id": "w-Ba4tB-2gah",
      "metadata": {
        "id": "w-Ba4tB-2gah"
      },
      "outputs": [],
      "source": [
        "roc_auc_score = evaluate.load(\"roc_auc\", \"multiclass\")"
      ]
    },
    {
      "cell_type": "markdown",
      "id": "OqMVXeeF2WOQ",
      "metadata": {
        "id": "OqMVXeeF2WOQ"
      },
      "source": [
        "Now that i have"
      ]
    },
    {
      "cell_type": "code",
      "execution_count": 58,
      "id": "EPggdDIN2Ros",
      "metadata": {
        "colab": {
          "base_uri": "https://localhost:8080/",
          "height": 113,
          "referenced_widgets": [
            "a1cfd75bfb2947a79eb098d1e6db26b8",
            "79b5dd582d1c46c4ba04b342d777a3b0",
            "84a137c4b34e420eaae30e1913a90d03",
            "1cf09820efeb463cbb8eea846b2ff813",
            "d2dd39400b264275b39f36baea199308",
            "719c5ef515cb428091cdfaa7bee369df",
            "13b05e9f48cd43d9bc5020c8bcf77002",
            "9784dc93539b4a0787d2ec8bc6dc1ecc",
            "c503390b40a74cedb966512cbc8bfc2e",
            "db20ba038fe645e4b48ddb6a8326aac1",
            "d77f1f4fe61340748696d07ba98038d9",
            "6b6fd6a887fb4924be205ed5a9613a9c",
            "d8b22e649ba84d65918df559ce94ef56",
            "7774163f07a84cbf801fab941f471757",
            "8c169b94730e420fab1254747e0b7a79",
            "62d8b59c4a9c4e7dbe79ab3ae4f3e33f",
            "15956e17b020455a92e37a031ffb435b",
            "6286efbf56d7446caa41cf96c806a05a",
            "c14e3082f99b410db0dc715687668708",
            "c7e6c9c683ae4edaab358deff09e38fa",
            "7b0ce0ff087d462aaf26f0e3479efa94",
            "ab000be99b32457fbe28b1453fa7de13",
            "3fc8e85b8f944983830c7952f54272f8",
            "810e047eace5433c87dbdb6061281dde",
            "ec40caa8315d4bab9b6c8015ecc48fc0",
            "01a21267a0d34fe8958b75dae3479c09",
            "a55b246287d147c4940639671157ed77",
            "434b721cba6441d48605952e92d503b1",
            "f57bb081b949407985e3ca335d4b30a8",
            "bca60a267e144bae86fd3c0eb5177a89",
            "a34bb38e55434ac796eb9b5b47989740",
            "b472a8ce78b44aae82774b4850e37360",
            "f913234ca5994d9b90f0876ed417527b"
          ]
        },
        "id": "EPggdDIN2Ros",
        "outputId": "d72aa470-e591-4101-e5cc-c43a08abde38"
      },
      "outputs": [
        {
          "data": {
            "application/vnd.jupyter.widget-view+json": {
              "model_id": "a1cfd75bfb2947a79eb098d1e6db26b8",
              "version_major": 2,
              "version_minor": 0
            },
            "text/plain": [
              "Map:   0%|          | 0/1428 [00:00<?, ? examples/s]"
            ]
          },
          "metadata": {},
          "output_type": "display_data"
        },
        {
          "data": {
            "application/vnd.jupyter.widget-view+json": {
              "model_id": "6b6fd6a887fb4924be205ed5a9613a9c",
              "version_major": 2,
              "version_minor": 0
            },
            "text/plain": [
              "Map:   0%|          | 0/357 [00:00<?, ? examples/s]"
            ]
          },
          "metadata": {},
          "output_type": "display_data"
        },
        {
          "data": {
            "application/vnd.jupyter.widget-view+json": {
              "model_id": "3fc8e85b8f944983830c7952f54272f8",
              "version_major": 2,
              "version_minor": 0
            },
            "text/plain": [
              "Map:   0%|          | 0/315 [00:00<?, ? examples/s]"
            ]
          },
          "metadata": {},
          "output_type": "display_data"
        }
      ],
      "source": [
        "\n",
        "def tokenize_function(example):\n",
        "    return tokenizer(example[\"text\"], truncation=True)\n",
        "\n",
        "tokenized_datasets = dataset_dict.map(tokenize_function, batched=True)\n",
        "\n"
      ]
    },
    {
      "cell_type": "markdown",
      "id": "JklGJeCDEM0m",
      "metadata": {
        "id": "JklGJeCDEM0m"
      },
      "source": []
    },
    {
      "cell_type": "code",
      "execution_count": 59,
      "id": "5f5c0316",
      "metadata": {
        "id": "5f5c0316"
      },
      "outputs": [],
      "source": [
        "data_collator = DataCollatorWithPadding(tokenizer=tokenizer)"
      ]
    },
    {
      "cell_type": "markdown",
      "id": "OnkwidEgEPXW",
      "metadata": {
        "id": "OnkwidEgEPXW"
      },
      "source": []
    },
    {
      "cell_type": "code",
      "execution_count": 60,
      "id": "0e0d9e42",
      "metadata": {
        "id": "0e0d9e42"
      },
      "outputs": [],
      "source": [
        "tokenized_datasets = tokenized_datasets.remove_columns(\"text\")\n",
        "tokenized_datasets = tokenized_datasets.rename_column(\"label\", \"labels\")"
      ]
    },
    {
      "cell_type": "markdown",
      "id": "1ah0uUL1EQMV",
      "metadata": {
        "id": "1ah0uUL1EQMV"
      },
      "source": []
    },
    {
      "cell_type": "code",
      "execution_count": 61,
      "id": "29c15dfc",
      "metadata": {
        "id": "29c15dfc"
      },
      "outputs": [],
      "source": [
        "tokenized_datasets = tokenized_datasets.with_format(\"torch\")"
      ]
    },
    {
      "cell_type": "code",
      "execution_count": 64,
      "id": "fYJPKLopE1p0",
      "metadata": {
        "colab": {
          "base_uri": "https://localhost:8080/"
        },
        "id": "fYJPKLopE1p0",
        "outputId": "2c761deb-f633-441e-bcdc-f510450fe517"
      },
      "outputs": [
        {
          "data": {
            "text/plain": [
              "{'train': 1428, 'validation': 357, 'test': 315}"
            ]
          },
          "execution_count": 64,
          "metadata": {},
          "output_type": "execute_result"
        }
      ],
      "source": [
        "tokenized_datasets.num_rows"
      ]
    },
    {
      "cell_type": "code",
      "execution_count": 65,
      "id": "NFbnXhfRJ32Q",
      "metadata": {
        "colab": {
          "base_uri": "https://localhost:8080/"
        },
        "id": "NFbnXhfRJ32Q",
        "outputId": "a2afa7ef-db34-47e2-e55f-245299313ea1"
      },
      "outputs": [
        {
          "data": {
            "text/plain": [
              "{'labels': Value('int64'),\n",
              " 'input_ids': List(Value('int32')),\n",
              " 'attention_mask': List(Value('int8'))}"
            ]
          },
          "execution_count": 65,
          "metadata": {},
          "output_type": "execute_result"
        }
      ],
      "source": [
        "tokenized_datasets[\"test\"].features\n"
      ]
    },
    {
      "cell_type": "markdown",
      "id": "TohwG1wPE1Vi",
      "metadata": {
        "id": "TohwG1wPE1Vi"
      },
      "source": []
    },
    {
      "cell_type": "markdown",
      "id": "obilSaT8ESdx",
      "metadata": {
        "id": "obilSaT8ESdx"
      },
      "source": []
    },
    {
      "cell_type": "code",
      "execution_count": 66,
      "id": "81dd6c5c",
      "metadata": {
        "id": "81dd6c5c"
      },
      "outputs": [],
      "source": [
        "val_dataloader = DataLoader(\n",
        "    tokenized_datasets[\"validation\"], batch_size=8, collate_fn=data_collator\n",
        ")"
      ]
    },
    {
      "cell_type": "code",
      "execution_count": null,
      "id": "3stpjXVOH_gx",
      "metadata": {
        "id": "3stpjXVOH_gx"
      },
      "outputs": [],
      "source": []
    },
    {
      "cell_type": "code",
      "execution_count": 68,
      "id": "7dc37cbe",
      "metadata": {
        "id": "7dc37cbe"
      },
      "outputs": [],
      "source": [
        "from typing import Dict\n",
        "import numpy as np\n",
        "\n",
        "def calculate_roc_auc(\n",
        "  model: transformers.models.distilbert.modeling_distilbert.DistilBertForSequenceClassification,\n",
        "  loader: DataLoader\n",
        ") -> Dict[str, np.float64]:\n",
        "\n",
        "  roc_auc_score = evaluate.load(\"roc_auc\", \"multiclass\")\n",
        "  model.eval()\n",
        "  for batch in loader:\n",
        "      batch = {k: v.to(device) for k, v in batch.items()}\n",
        "      with torch.no_grad():\n",
        "          outputs = model(**batch)\n",
        "          scores = torch.nn.functional.softmax(outputs.logits, dim=-1)\n",
        "          roc_auc_score.add_batch(references=batch[\"labels\"],\n",
        "                                prediction_scores=scores)\n",
        "\n",
        "  return roc_auc_score.compute(multi_class=\"ovr\")"
      ]
    },
    {
      "cell_type": "code",
      "execution_count": 69,
      "id": "868f72a5",
      "metadata": {
        "colab": {
          "base_uri": "https://localhost:8080/"
        },
        "id": "868f72a5",
        "outputId": "bf78f9c4-dee4-490d-8a88-4a87d882d036"
      },
      "outputs": [
        {
          "data": {
            "text/plain": [
              "{'roc_auc': np.float64(0.4807119639299569)}"
            ]
          },
          "execution_count": 69,
          "metadata": {},
          "output_type": "execute_result"
        }
      ],
      "source": [
        "calculate_roc_auc(model, val_dataloader)"
      ]
    },
    {
      "cell_type": "markdown",
      "id": "I17_FidrFFFU",
      "metadata": {
        "id": "I17_FidrFFFU"
      },
      "source": [
        "{'roc_auc': np.float64(0.6150256894201531)}"
      ]
    },
    {
      "cell_type": "markdown",
      "id": "468bf75f",
      "metadata": {
        "id": "468bf75f"
      },
      "source": [
        "## 3. Fine Tuning DistilBERT"
      ]
    },
    {
      "cell_type": "code",
      "execution_count": 24,
      "id": "6b7a95d2",
      "metadata": {
        "colab": {
          "base_uri": "https://localhost:8080/"
        },
        "id": "6b7a95d2",
        "outputId": "5807b661-0bcb-4d76-f43d-7ad627250a8f"
      },
      "outputs": [
        {
          "data": {
            "text/plain": [
              "device(type='cuda', index=0)"
            ]
          },
          "execution_count": 24,
          "metadata": {},
          "output_type": "execute_result"
        }
      ],
      "source": [
        "model.device"
      ]
    },
    {
      "cell_type": "code",
      "execution_count": 70,
      "id": "e0f54b5a",
      "metadata": {
        "id": "e0f54b5a"
      },
      "outputs": [],
      "source": [
        "def compute_metrics(eval_preds):\n",
        "    roc_auc_score = evaluate.load(\"roc_auc\", \"multiclass\")\n",
        "    preds, labels = eval_preds\n",
        "    scores = torch.nn.functional.softmax(\n",
        "                        torch.tensor(preds), dim=-1)\n",
        "\n",
        "    return roc_auc_score.compute(prediction_scores=scores, references=labels, multi_class=\"ovr\")"
      ]
    },
    {
      "cell_type": "markdown",
      "id": "eEh16HuVFKFJ",
      "metadata": {
        "id": "eEh16HuVFKFJ"
      },
      "source": []
    },
    {
      "cell_type": "code",
      "execution_count": 72,
      "id": "543a1b53",
      "metadata": {
        "id": "543a1b53"
      },
      "outputs": [],
      "source": [
        "from transformers import TrainingArguments\n",
        "\n",
        "training_args = TrainingArguments(\n",
        "    output_dir=\"./results\",\n",
        "    learning_rate=2e-4,\n",
        "    per_device_train_batch_size=16,\n",
        "    per_device_eval_batch_size=8,\n",
        "    num_train_epochs=5,\n",
        "    weight_decay=0.01,\n",
        "    eval_strategy=\"epoch\",\n",
        "    logging_strategy=\"epoch\",\n",
        "    report_to=\"none\"\n",
        ")"
      ]
    },
    {
      "cell_type": "markdown",
      "id": "KsL3FgPdFL7p",
      "metadata": {
        "id": "KsL3FgPdFL7p"
      },
      "source": []
    },
    {
      "cell_type": "code",
      "execution_count": 75,
      "id": "eac0ccb6",
      "metadata": {
        "id": "eac0ccb6"
      },
      "outputs": [],
      "source": [
        "from transformers import Trainer\n",
        "\n",
        "trainer = Trainer(\n",
        "    model,\n",
        "    training_args,\n",
        "    train_dataset=tokenized_datasets[\"train\"],\n",
        "    eval_dataset=tokenized_datasets[\"validation\"],\n",
        "    data_collator=data_collator,\n",
        "    processing_class=tokenizer,\n",
        "    compute_metrics=compute_metrics\n",
        ")\n"
      ]
    },
    {
      "cell_type": "markdown",
      "id": "K79AE2j_FNuP",
      "metadata": {
        "id": "K79AE2j_FNuP"
      },
      "source": []
    },
    {
      "cell_type": "code",
      "execution_count": null,
      "id": "3d0574ca",
      "metadata": {
        "colab": {
          "base_uri": "https://localhost:8080/",
          "height": 322
        },
        "id": "3d0574ca",
        "outputId": "cd1ef047-d36f-4cde-be68-8d4a01203ed3"
      },
      "outputs": [
        {
          "data": {
            "text/html": [
              "\n",
              "    <div>\n",
              "      \n",
              "      <progress value='277' max='450' style='width:300px; height:20px; vertical-align: middle;'></progress>\n",
              "      [277/450 02:14 < 01:24, 2.05 it/s, Epoch 3.07/5]\n",
              "    </div>\n",
              "    <table border=\"1\" class=\"dataframe\">\n",
              "  <thead>\n",
              " <tr style=\"text-align: left;\">\n",
              "      <th>Epoch</th>\n",
              "      <th>Training Loss</th>\n",
              "      <th>Validation Loss</th>\n",
              "      <th>Roc Auc</th>\n",
              "    </tr>\n",
              "  </thead>\n",
              "  <tbody>\n",
              "    <tr>\n",
              "      <td>1</td>\n",
              "      <td>0.421300</td>\n",
              "      <td>0.461289</td>\n",
              "      <td>0.968239</td>\n",
              "    </tr>\n",
              "    <tr>\n",
              "      <td>2</td>\n",
              "      <td>0.220400</td>\n",
              "      <td>0.460888</td>\n",
              "      <td>0.961172</td>\n",
              "    </tr>\n",
              "    <tr>\n",
              "      <td>3</td>\n",
              "      <td>0.203400</td>\n",
              "      <td>0.396393</td>\n",
              "      <td>0.977058</td>\n",
              "    </tr>\n",
              "  </tbody>\n",
              "</table><p>"
            ],
            "text/plain": [
              "<IPython.core.display.HTML object>"
            ]
          },
          "metadata": {},
          "output_type": "display_data"
        },
        {
          "data": {
            "text/html": [
              "\n",
              "    <div>\n",
              "      \n",
              "      <progress value='283' max='450' style='width:300px; height:20px; vertical-align: middle;'></progress>\n",
              "      [283/450 02:16 < 01:21, 2.06 it/s, Epoch 3.13/5]\n",
              "    </div>\n",
              "    <table border=\"1\" class=\"dataframe\">\n",
              "  <thead>\n",
              " <tr style=\"text-align: left;\">\n",
              "      <th>Epoch</th>\n",
              "      <th>Training Loss</th>\n",
              "      <th>Validation Loss</th>\n",
              "      <th>Roc Auc</th>\n",
              "    </tr>\n",
              "  </thead>\n",
              "  <tbody>\n",
              "    <tr>\n",
              "      <td>1</td>\n",
              "      <td>0.421300</td>\n",
              "      <td>0.461289</td>\n",
              "      <td>0.968239</td>\n",
              "    </tr>\n",
              "    <tr>\n",
              "      <td>2</td>\n",
              "      <td>0.220400</td>\n",
              "      <td>0.460888</td>\n",
              "      <td>0.961172</td>\n",
              "    </tr>\n",
              "    <tr>\n",
              "      <td>3</td>\n",
              "      <td>0.203400</td>\n",
              "      <td>0.396393</td>\n",
              "      <td>0.977058</td>\n",
              "    </tr>\n",
              "  </tbody>\n",
              "</table><p>"
            ],
            "text/plain": [
              "<IPython.core.display.HTML object>"
            ]
          },
          "metadata": {},
          "output_type": "display_data"
        }
      ],
      "source": [
        "output = trainer.train()"
      ]
    },
    {
      "cell_type": "code",
      "execution_count": 33,
      "id": "00084c07",
      "metadata": {
        "id": "00084c07"
      },
      "outputs": [],
      "source": [
        "trainer.save_model(\"temp\")"
      ]
    },
    {
      "cell_type": "code",
      "execution_count": null,
      "id": "32c887da",
      "metadata": {
        "id": "32c887da"
      },
      "outputs": [],
      "source": [
        "trainer.load   (\"temp\")"
      ]
    },
    {
      "cell_type": "code",
      "execution_count": 35,
      "id": "98daa73e",
      "metadata": {
        "id": "98daa73e"
      },
      "outputs": [],
      "source": [
        "model = trainer.model\n"
      ]
    },
    {
      "cell_type": "code",
      "execution_count": 36,
      "id": "g1ymHsYCGcl2",
      "metadata": {
        "id": "g1ymHsYCGcl2"
      },
      "outputs": [],
      "source": [
        "test_dataloader = DataLoader(\n",
        "    tokenized_datasets[\"test\"], batch_size=8, collate_fn=data_collator\n",
        ")"
      ]
    },
    {
      "cell_type": "code",
      "execution_count": 51,
      "id": "70353354",
      "metadata": {
        "colab": {
          "base_uri": "https://localhost:8080/"
        },
        "id": "70353354",
        "outputId": "aa16aea1-eeeb-4be7-b951-bb12ce27b4c2"
      },
      "outputs": [
        {
          "data": {
            "text/plain": [
              "{'roc_auc': np.float64(0.972989898989899)}"
            ]
          },
          "execution_count": 51,
          "metadata": {},
          "output_type": "execute_result"
        }
      ],
      "source": [
        "calculate_roc_auc(model, test_dataloader)"
      ]
    },
    {
      "cell_type": "code",
      "execution_count": null,
      "id": "MI6_t1PjJNz-",
      "metadata": {
        "id": "MI6_t1PjJNz-"
      },
      "outputs": [],
      "source": []
    },
    {
      "cell_type": "code",
      "execution_count": 52,
      "id": "Mg3G0FTnJOFx",
      "metadata": {
        "id": "Mg3G0FTnJOFx"
      },
      "outputs": [],
      "source": [
        "trainer.create_model_card()"
      ]
    },
    {
      "cell_type": "code",
      "execution_count": null,
      "id": "yF7o07gjG41E",
      "metadata": {
        "id": "yF7o07gjG41E"
      },
      "outputs": [],
      "source": []
    }
  ],
  "metadata": {
    "accelerator": "GPU",
    "colab": {
      "gpuType": "T4",
      "provenance": []
    },
    "kernelspec": {
      "display_name": "pytorch_env",
      "language": "python",
      "name": "python3"
    },
    "language_info": {
      "codemirror_mode": {
        "name": "ipython",
        "version": 3
      },
      "file_extension": ".py",
      "mimetype": "text/x-python",
      "name": "python",
      "nbconvert_exporter": "python",
      "pygments_lexer": "ipython3",
      "version": "3.12.11"
    },
    "widgets": {
      "application/vnd.jupyter.widget-state+json": {
        "01a21267a0d34fe8958b75dae3479c09": {
          "model_module": "@jupyter-widgets/controls",
          "model_module_version": "1.5.0",
          "model_name": "HTMLModel",
          "state": {
            "_dom_classes": [],
            "_model_module": "@jupyter-widgets/controls",
            "_model_module_version": "1.5.0",
            "_model_name": "HTMLModel",
            "_view_count": null,
            "_view_module": "@jupyter-widgets/controls",
            "_view_module_version": "1.5.0",
            "_view_name": "HTMLView",
            "description": "",
            "description_tooltip": null,
            "layout": "IPY_MODEL_b472a8ce78b44aae82774b4850e37360",
            "placeholder": "​",
            "style": "IPY_MODEL_f913234ca5994d9b90f0876ed417527b",
            "value": " 315/315 [00:00&lt;00:00, 1531.53 examples/s]"
          }
        },
        "13b05e9f48cd43d9bc5020c8bcf77002": {
          "model_module": "@jupyter-widgets/controls",
          "model_module_version": "1.5.0",
          "model_name": "DescriptionStyleModel",
          "state": {
            "_model_module": "@jupyter-widgets/controls",
            "_model_module_version": "1.5.0",
            "_model_name": "DescriptionStyleModel",
            "_view_count": null,
            "_view_module": "@jupyter-widgets/base",
            "_view_module_version": "1.2.0",
            "_view_name": "StyleView",
            "description_width": ""
          }
        },
        "15956e17b020455a92e37a031ffb435b": {
          "model_module": "@jupyter-widgets/base",
          "model_module_version": "1.2.0",
          "model_name": "LayoutModel",
          "state": {
            "_model_module": "@jupyter-widgets/base",
            "_model_module_version": "1.2.0",
            "_model_name": "LayoutModel",
            "_view_count": null,
            "_view_module": "@jupyter-widgets/base",
            "_view_module_version": "1.2.0",
            "_view_name": "LayoutView",
            "align_content": null,
            "align_items": null,
            "align_self": null,
            "border": null,
            "bottom": null,
            "display": null,
            "flex": null,
            "flex_flow": null,
            "grid_area": null,
            "grid_auto_columns": null,
            "grid_auto_flow": null,
            "grid_auto_rows": null,
            "grid_column": null,
            "grid_gap": null,
            "grid_row": null,
            "grid_template_areas": null,
            "grid_template_columns": null,
            "grid_template_rows": null,
            "height": null,
            "justify_content": null,
            "justify_items": null,
            "left": null,
            "margin": null,
            "max_height": null,
            "max_width": null,
            "min_height": null,
            "min_width": null,
            "object_fit": null,
            "object_position": null,
            "order": null,
            "overflow": null,
            "overflow_x": null,
            "overflow_y": null,
            "padding": null,
            "right": null,
            "top": null,
            "visibility": null,
            "width": null
          }
        },
        "1cf09820efeb463cbb8eea846b2ff813": {
          "model_module": "@jupyter-widgets/controls",
          "model_module_version": "1.5.0",
          "model_name": "HTMLModel",
          "state": {
            "_dom_classes": [],
            "_model_module": "@jupyter-widgets/controls",
            "_model_module_version": "1.5.0",
            "_model_name": "HTMLModel",
            "_view_count": null,
            "_view_module": "@jupyter-widgets/controls",
            "_view_module_version": "1.5.0",
            "_view_name": "HTMLView",
            "description": "",
            "description_tooltip": null,
            "layout": "IPY_MODEL_db20ba038fe645e4b48ddb6a8326aac1",
            "placeholder": "​",
            "style": "IPY_MODEL_d77f1f4fe61340748696d07ba98038d9",
            "value": " 1428/1428 [00:01&lt;00:00, 1458.11 examples/s]"
          }
        },
        "3fc8e85b8f944983830c7952f54272f8": {
          "model_module": "@jupyter-widgets/controls",
          "model_module_version": "1.5.0",
          "model_name": "HBoxModel",
          "state": {
            "_dom_classes": [],
            "_model_module": "@jupyter-widgets/controls",
            "_model_module_version": "1.5.0",
            "_model_name": "HBoxModel",
            "_view_count": null,
            "_view_module": "@jupyter-widgets/controls",
            "_view_module_version": "1.5.0",
            "_view_name": "HBoxView",
            "box_style": "",
            "children": [
              "IPY_MODEL_810e047eace5433c87dbdb6061281dde",
              "IPY_MODEL_ec40caa8315d4bab9b6c8015ecc48fc0",
              "IPY_MODEL_01a21267a0d34fe8958b75dae3479c09"
            ],
            "layout": "IPY_MODEL_a55b246287d147c4940639671157ed77"
          }
        },
        "434b721cba6441d48605952e92d503b1": {
          "model_module": "@jupyter-widgets/base",
          "model_module_version": "1.2.0",
          "model_name": "LayoutModel",
          "state": {
            "_model_module": "@jupyter-widgets/base",
            "_model_module_version": "1.2.0",
            "_model_name": "LayoutModel",
            "_view_count": null,
            "_view_module": "@jupyter-widgets/base",
            "_view_module_version": "1.2.0",
            "_view_name": "LayoutView",
            "align_content": null,
            "align_items": null,
            "align_self": null,
            "border": null,
            "bottom": null,
            "display": null,
            "flex": null,
            "flex_flow": null,
            "grid_area": null,
            "grid_auto_columns": null,
            "grid_auto_flow": null,
            "grid_auto_rows": null,
            "grid_column": null,
            "grid_gap": null,
            "grid_row": null,
            "grid_template_areas": null,
            "grid_template_columns": null,
            "grid_template_rows": null,
            "height": null,
            "justify_content": null,
            "justify_items": null,
            "left": null,
            "margin": null,
            "max_height": null,
            "max_width": null,
            "min_height": null,
            "min_width": null,
            "object_fit": null,
            "object_position": null,
            "order": null,
            "overflow": null,
            "overflow_x": null,
            "overflow_y": null,
            "padding": null,
            "right": null,
            "top": null,
            "visibility": null,
            "width": null
          }
        },
        "6286efbf56d7446caa41cf96c806a05a": {
          "model_module": "@jupyter-widgets/controls",
          "model_module_version": "1.5.0",
          "model_name": "DescriptionStyleModel",
          "state": {
            "_model_module": "@jupyter-widgets/controls",
            "_model_module_version": "1.5.0",
            "_model_name": "DescriptionStyleModel",
            "_view_count": null,
            "_view_module": "@jupyter-widgets/base",
            "_view_module_version": "1.2.0",
            "_view_name": "StyleView",
            "description_width": ""
          }
        },
        "62d8b59c4a9c4e7dbe79ab3ae4f3e33f": {
          "model_module": "@jupyter-widgets/base",
          "model_module_version": "1.2.0",
          "model_name": "LayoutModel",
          "state": {
            "_model_module": "@jupyter-widgets/base",
            "_model_module_version": "1.2.0",
            "_model_name": "LayoutModel",
            "_view_count": null,
            "_view_module": "@jupyter-widgets/base",
            "_view_module_version": "1.2.0",
            "_view_name": "LayoutView",
            "align_content": null,
            "align_items": null,
            "align_self": null,
            "border": null,
            "bottom": null,
            "display": null,
            "flex": null,
            "flex_flow": null,
            "grid_area": null,
            "grid_auto_columns": null,
            "grid_auto_flow": null,
            "grid_auto_rows": null,
            "grid_column": null,
            "grid_gap": null,
            "grid_row": null,
            "grid_template_areas": null,
            "grid_template_columns": null,
            "grid_template_rows": null,
            "height": null,
            "justify_content": null,
            "justify_items": null,
            "left": null,
            "margin": null,
            "max_height": null,
            "max_width": null,
            "min_height": null,
            "min_width": null,
            "object_fit": null,
            "object_position": null,
            "order": null,
            "overflow": null,
            "overflow_x": null,
            "overflow_y": null,
            "padding": null,
            "right": null,
            "top": null,
            "visibility": null,
            "width": null
          }
        },
        "6b6fd6a887fb4924be205ed5a9613a9c": {
          "model_module": "@jupyter-widgets/controls",
          "model_module_version": "1.5.0",
          "model_name": "HBoxModel",
          "state": {
            "_dom_classes": [],
            "_model_module": "@jupyter-widgets/controls",
            "_model_module_version": "1.5.0",
            "_model_name": "HBoxModel",
            "_view_count": null,
            "_view_module": "@jupyter-widgets/controls",
            "_view_module_version": "1.5.0",
            "_view_name": "HBoxView",
            "box_style": "",
            "children": [
              "IPY_MODEL_d8b22e649ba84d65918df559ce94ef56",
              "IPY_MODEL_7774163f07a84cbf801fab941f471757",
              "IPY_MODEL_8c169b94730e420fab1254747e0b7a79"
            ],
            "layout": "IPY_MODEL_62d8b59c4a9c4e7dbe79ab3ae4f3e33f"
          }
        },
        "719c5ef515cb428091cdfaa7bee369df": {
          "model_module": "@jupyter-widgets/base",
          "model_module_version": "1.2.0",
          "model_name": "LayoutModel",
          "state": {
            "_model_module": "@jupyter-widgets/base",
            "_model_module_version": "1.2.0",
            "_model_name": "LayoutModel",
            "_view_count": null,
            "_view_module": "@jupyter-widgets/base",
            "_view_module_version": "1.2.0",
            "_view_name": "LayoutView",
            "align_content": null,
            "align_items": null,
            "align_self": null,
            "border": null,
            "bottom": null,
            "display": null,
            "flex": null,
            "flex_flow": null,
            "grid_area": null,
            "grid_auto_columns": null,
            "grid_auto_flow": null,
            "grid_auto_rows": null,
            "grid_column": null,
            "grid_gap": null,
            "grid_row": null,
            "grid_template_areas": null,
            "grid_template_columns": null,
            "grid_template_rows": null,
            "height": null,
            "justify_content": null,
            "justify_items": null,
            "left": null,
            "margin": null,
            "max_height": null,
            "max_width": null,
            "min_height": null,
            "min_width": null,
            "object_fit": null,
            "object_position": null,
            "order": null,
            "overflow": null,
            "overflow_x": null,
            "overflow_y": null,
            "padding": null,
            "right": null,
            "top": null,
            "visibility": null,
            "width": null
          }
        },
        "7774163f07a84cbf801fab941f471757": {
          "model_module": "@jupyter-widgets/controls",
          "model_module_version": "1.5.0",
          "model_name": "FloatProgressModel",
          "state": {
            "_dom_classes": [],
            "_model_module": "@jupyter-widgets/controls",
            "_model_module_version": "1.5.0",
            "_model_name": "FloatProgressModel",
            "_view_count": null,
            "_view_module": "@jupyter-widgets/controls",
            "_view_module_version": "1.5.0",
            "_view_name": "ProgressView",
            "bar_style": "success",
            "description": "",
            "description_tooltip": null,
            "layout": "IPY_MODEL_c14e3082f99b410db0dc715687668708",
            "max": 357,
            "min": 0,
            "orientation": "horizontal",
            "style": "IPY_MODEL_c7e6c9c683ae4edaab358deff09e38fa",
            "value": 357
          }
        },
        "79b5dd582d1c46c4ba04b342d777a3b0": {
          "model_module": "@jupyter-widgets/controls",
          "model_module_version": "1.5.0",
          "model_name": "HTMLModel",
          "state": {
            "_dom_classes": [],
            "_model_module": "@jupyter-widgets/controls",
            "_model_module_version": "1.5.0",
            "_model_name": "HTMLModel",
            "_view_count": null,
            "_view_module": "@jupyter-widgets/controls",
            "_view_module_version": "1.5.0",
            "_view_name": "HTMLView",
            "description": "",
            "description_tooltip": null,
            "layout": "IPY_MODEL_719c5ef515cb428091cdfaa7bee369df",
            "placeholder": "​",
            "style": "IPY_MODEL_13b05e9f48cd43d9bc5020c8bcf77002",
            "value": "Map: 100%"
          }
        },
        "7b0ce0ff087d462aaf26f0e3479efa94": {
          "model_module": "@jupyter-widgets/base",
          "model_module_version": "1.2.0",
          "model_name": "LayoutModel",
          "state": {
            "_model_module": "@jupyter-widgets/base",
            "_model_module_version": "1.2.0",
            "_model_name": "LayoutModel",
            "_view_count": null,
            "_view_module": "@jupyter-widgets/base",
            "_view_module_version": "1.2.0",
            "_view_name": "LayoutView",
            "align_content": null,
            "align_items": null,
            "align_self": null,
            "border": null,
            "bottom": null,
            "display": null,
            "flex": null,
            "flex_flow": null,
            "grid_area": null,
            "grid_auto_columns": null,
            "grid_auto_flow": null,
            "grid_auto_rows": null,
            "grid_column": null,
            "grid_gap": null,
            "grid_row": null,
            "grid_template_areas": null,
            "grid_template_columns": null,
            "grid_template_rows": null,
            "height": null,
            "justify_content": null,
            "justify_items": null,
            "left": null,
            "margin": null,
            "max_height": null,
            "max_width": null,
            "min_height": null,
            "min_width": null,
            "object_fit": null,
            "object_position": null,
            "order": null,
            "overflow": null,
            "overflow_x": null,
            "overflow_y": null,
            "padding": null,
            "right": null,
            "top": null,
            "visibility": null,
            "width": null
          }
        },
        "810e047eace5433c87dbdb6061281dde": {
          "model_module": "@jupyter-widgets/controls",
          "model_module_version": "1.5.0",
          "model_name": "HTMLModel",
          "state": {
            "_dom_classes": [],
            "_model_module": "@jupyter-widgets/controls",
            "_model_module_version": "1.5.0",
            "_model_name": "HTMLModel",
            "_view_count": null,
            "_view_module": "@jupyter-widgets/controls",
            "_view_module_version": "1.5.0",
            "_view_name": "HTMLView",
            "description": "",
            "description_tooltip": null,
            "layout": "IPY_MODEL_434b721cba6441d48605952e92d503b1",
            "placeholder": "​",
            "style": "IPY_MODEL_f57bb081b949407985e3ca335d4b30a8",
            "value": "Map: 100%"
          }
        },
        "84a137c4b34e420eaae30e1913a90d03": {
          "model_module": "@jupyter-widgets/controls",
          "model_module_version": "1.5.0",
          "model_name": "FloatProgressModel",
          "state": {
            "_dom_classes": [],
            "_model_module": "@jupyter-widgets/controls",
            "_model_module_version": "1.5.0",
            "_model_name": "FloatProgressModel",
            "_view_count": null,
            "_view_module": "@jupyter-widgets/controls",
            "_view_module_version": "1.5.0",
            "_view_name": "ProgressView",
            "bar_style": "success",
            "description": "",
            "description_tooltip": null,
            "layout": "IPY_MODEL_9784dc93539b4a0787d2ec8bc6dc1ecc",
            "max": 1428,
            "min": 0,
            "orientation": "horizontal",
            "style": "IPY_MODEL_c503390b40a74cedb966512cbc8bfc2e",
            "value": 1428
          }
        },
        "8c169b94730e420fab1254747e0b7a79": {
          "model_module": "@jupyter-widgets/controls",
          "model_module_version": "1.5.0",
          "model_name": "HTMLModel",
          "state": {
            "_dom_classes": [],
            "_model_module": "@jupyter-widgets/controls",
            "_model_module_version": "1.5.0",
            "_model_name": "HTMLModel",
            "_view_count": null,
            "_view_module": "@jupyter-widgets/controls",
            "_view_module_version": "1.5.0",
            "_view_name": "HTMLView",
            "description": "",
            "description_tooltip": null,
            "layout": "IPY_MODEL_7b0ce0ff087d462aaf26f0e3479efa94",
            "placeholder": "​",
            "style": "IPY_MODEL_ab000be99b32457fbe28b1453fa7de13",
            "value": " 357/357 [00:00&lt;00:00, 1586.51 examples/s]"
          }
        },
        "9784dc93539b4a0787d2ec8bc6dc1ecc": {
          "model_module": "@jupyter-widgets/base",
          "model_module_version": "1.2.0",
          "model_name": "LayoutModel",
          "state": {
            "_model_module": "@jupyter-widgets/base",
            "_model_module_version": "1.2.0",
            "_model_name": "LayoutModel",
            "_view_count": null,
            "_view_module": "@jupyter-widgets/base",
            "_view_module_version": "1.2.0",
            "_view_name": "LayoutView",
            "align_content": null,
            "align_items": null,
            "align_self": null,
            "border": null,
            "bottom": null,
            "display": null,
            "flex": null,
            "flex_flow": null,
            "grid_area": null,
            "grid_auto_columns": null,
            "grid_auto_flow": null,
            "grid_auto_rows": null,
            "grid_column": null,
            "grid_gap": null,
            "grid_row": null,
            "grid_template_areas": null,
            "grid_template_columns": null,
            "grid_template_rows": null,
            "height": null,
            "justify_content": null,
            "justify_items": null,
            "left": null,
            "margin": null,
            "max_height": null,
            "max_width": null,
            "min_height": null,
            "min_width": null,
            "object_fit": null,
            "object_position": null,
            "order": null,
            "overflow": null,
            "overflow_x": null,
            "overflow_y": null,
            "padding": null,
            "right": null,
            "top": null,
            "visibility": null,
            "width": null
          }
        },
        "a1cfd75bfb2947a79eb098d1e6db26b8": {
          "model_module": "@jupyter-widgets/controls",
          "model_module_version": "1.5.0",
          "model_name": "HBoxModel",
          "state": {
            "_dom_classes": [],
            "_model_module": "@jupyter-widgets/controls",
            "_model_module_version": "1.5.0",
            "_model_name": "HBoxModel",
            "_view_count": null,
            "_view_module": "@jupyter-widgets/controls",
            "_view_module_version": "1.5.0",
            "_view_name": "HBoxView",
            "box_style": "",
            "children": [
              "IPY_MODEL_79b5dd582d1c46c4ba04b342d777a3b0",
              "IPY_MODEL_84a137c4b34e420eaae30e1913a90d03",
              "IPY_MODEL_1cf09820efeb463cbb8eea846b2ff813"
            ],
            "layout": "IPY_MODEL_d2dd39400b264275b39f36baea199308"
          }
        },
        "a34bb38e55434ac796eb9b5b47989740": {
          "model_module": "@jupyter-widgets/controls",
          "model_module_version": "1.5.0",
          "model_name": "ProgressStyleModel",
          "state": {
            "_model_module": "@jupyter-widgets/controls",
            "_model_module_version": "1.5.0",
            "_model_name": "ProgressStyleModel",
            "_view_count": null,
            "_view_module": "@jupyter-widgets/base",
            "_view_module_version": "1.2.0",
            "_view_name": "StyleView",
            "bar_color": null,
            "description_width": ""
          }
        },
        "a55b246287d147c4940639671157ed77": {
          "model_module": "@jupyter-widgets/base",
          "model_module_version": "1.2.0",
          "model_name": "LayoutModel",
          "state": {
            "_model_module": "@jupyter-widgets/base",
            "_model_module_version": "1.2.0",
            "_model_name": "LayoutModel",
            "_view_count": null,
            "_view_module": "@jupyter-widgets/base",
            "_view_module_version": "1.2.0",
            "_view_name": "LayoutView",
            "align_content": null,
            "align_items": null,
            "align_self": null,
            "border": null,
            "bottom": null,
            "display": null,
            "flex": null,
            "flex_flow": null,
            "grid_area": null,
            "grid_auto_columns": null,
            "grid_auto_flow": null,
            "grid_auto_rows": null,
            "grid_column": null,
            "grid_gap": null,
            "grid_row": null,
            "grid_template_areas": null,
            "grid_template_columns": null,
            "grid_template_rows": null,
            "height": null,
            "justify_content": null,
            "justify_items": null,
            "left": null,
            "margin": null,
            "max_height": null,
            "max_width": null,
            "min_height": null,
            "min_width": null,
            "object_fit": null,
            "object_position": null,
            "order": null,
            "overflow": null,
            "overflow_x": null,
            "overflow_y": null,
            "padding": null,
            "right": null,
            "top": null,
            "visibility": null,
            "width": null
          }
        },
        "ab000be99b32457fbe28b1453fa7de13": {
          "model_module": "@jupyter-widgets/controls",
          "model_module_version": "1.5.0",
          "model_name": "DescriptionStyleModel",
          "state": {
            "_model_module": "@jupyter-widgets/controls",
            "_model_module_version": "1.5.0",
            "_model_name": "DescriptionStyleModel",
            "_view_count": null,
            "_view_module": "@jupyter-widgets/base",
            "_view_module_version": "1.2.0",
            "_view_name": "StyleView",
            "description_width": ""
          }
        },
        "b472a8ce78b44aae82774b4850e37360": {
          "model_module": "@jupyter-widgets/base",
          "model_module_version": "1.2.0",
          "model_name": "LayoutModel",
          "state": {
            "_model_module": "@jupyter-widgets/base",
            "_model_module_version": "1.2.0",
            "_model_name": "LayoutModel",
            "_view_count": null,
            "_view_module": "@jupyter-widgets/base",
            "_view_module_version": "1.2.0",
            "_view_name": "LayoutView",
            "align_content": null,
            "align_items": null,
            "align_self": null,
            "border": null,
            "bottom": null,
            "display": null,
            "flex": null,
            "flex_flow": null,
            "grid_area": null,
            "grid_auto_columns": null,
            "grid_auto_flow": null,
            "grid_auto_rows": null,
            "grid_column": null,
            "grid_gap": null,
            "grid_row": null,
            "grid_template_areas": null,
            "grid_template_columns": null,
            "grid_template_rows": null,
            "height": null,
            "justify_content": null,
            "justify_items": null,
            "left": null,
            "margin": null,
            "max_height": null,
            "max_width": null,
            "min_height": null,
            "min_width": null,
            "object_fit": null,
            "object_position": null,
            "order": null,
            "overflow": null,
            "overflow_x": null,
            "overflow_y": null,
            "padding": null,
            "right": null,
            "top": null,
            "visibility": null,
            "width": null
          }
        },
        "bca60a267e144bae86fd3c0eb5177a89": {
          "model_module": "@jupyter-widgets/base",
          "model_module_version": "1.2.0",
          "model_name": "LayoutModel",
          "state": {
            "_model_module": "@jupyter-widgets/base",
            "_model_module_version": "1.2.0",
            "_model_name": "LayoutModel",
            "_view_count": null,
            "_view_module": "@jupyter-widgets/base",
            "_view_module_version": "1.2.0",
            "_view_name": "LayoutView",
            "align_content": null,
            "align_items": null,
            "align_self": null,
            "border": null,
            "bottom": null,
            "display": null,
            "flex": null,
            "flex_flow": null,
            "grid_area": null,
            "grid_auto_columns": null,
            "grid_auto_flow": null,
            "grid_auto_rows": null,
            "grid_column": null,
            "grid_gap": null,
            "grid_row": null,
            "grid_template_areas": null,
            "grid_template_columns": null,
            "grid_template_rows": null,
            "height": null,
            "justify_content": null,
            "justify_items": null,
            "left": null,
            "margin": null,
            "max_height": null,
            "max_width": null,
            "min_height": null,
            "min_width": null,
            "object_fit": null,
            "object_position": null,
            "order": null,
            "overflow": null,
            "overflow_x": null,
            "overflow_y": null,
            "padding": null,
            "right": null,
            "top": null,
            "visibility": null,
            "width": null
          }
        },
        "c14e3082f99b410db0dc715687668708": {
          "model_module": "@jupyter-widgets/base",
          "model_module_version": "1.2.0",
          "model_name": "LayoutModel",
          "state": {
            "_model_module": "@jupyter-widgets/base",
            "_model_module_version": "1.2.0",
            "_model_name": "LayoutModel",
            "_view_count": null,
            "_view_module": "@jupyter-widgets/base",
            "_view_module_version": "1.2.0",
            "_view_name": "LayoutView",
            "align_content": null,
            "align_items": null,
            "align_self": null,
            "border": null,
            "bottom": null,
            "display": null,
            "flex": null,
            "flex_flow": null,
            "grid_area": null,
            "grid_auto_columns": null,
            "grid_auto_flow": null,
            "grid_auto_rows": null,
            "grid_column": null,
            "grid_gap": null,
            "grid_row": null,
            "grid_template_areas": null,
            "grid_template_columns": null,
            "grid_template_rows": null,
            "height": null,
            "justify_content": null,
            "justify_items": null,
            "left": null,
            "margin": null,
            "max_height": null,
            "max_width": null,
            "min_height": null,
            "min_width": null,
            "object_fit": null,
            "object_position": null,
            "order": null,
            "overflow": null,
            "overflow_x": null,
            "overflow_y": null,
            "padding": null,
            "right": null,
            "top": null,
            "visibility": null,
            "width": null
          }
        },
        "c503390b40a74cedb966512cbc8bfc2e": {
          "model_module": "@jupyter-widgets/controls",
          "model_module_version": "1.5.0",
          "model_name": "ProgressStyleModel",
          "state": {
            "_model_module": "@jupyter-widgets/controls",
            "_model_module_version": "1.5.0",
            "_model_name": "ProgressStyleModel",
            "_view_count": null,
            "_view_module": "@jupyter-widgets/base",
            "_view_module_version": "1.2.0",
            "_view_name": "StyleView",
            "bar_color": null,
            "description_width": ""
          }
        },
        "c7e6c9c683ae4edaab358deff09e38fa": {
          "model_module": "@jupyter-widgets/controls",
          "model_module_version": "1.5.0",
          "model_name": "ProgressStyleModel",
          "state": {
            "_model_module": "@jupyter-widgets/controls",
            "_model_module_version": "1.5.0",
            "_model_name": "ProgressStyleModel",
            "_view_count": null,
            "_view_module": "@jupyter-widgets/base",
            "_view_module_version": "1.2.0",
            "_view_name": "StyleView",
            "bar_color": null,
            "description_width": ""
          }
        },
        "d2dd39400b264275b39f36baea199308": {
          "model_module": "@jupyter-widgets/base",
          "model_module_version": "1.2.0",
          "model_name": "LayoutModel",
          "state": {
            "_model_module": "@jupyter-widgets/base",
            "_model_module_version": "1.2.0",
            "_model_name": "LayoutModel",
            "_view_count": null,
            "_view_module": "@jupyter-widgets/base",
            "_view_module_version": "1.2.0",
            "_view_name": "LayoutView",
            "align_content": null,
            "align_items": null,
            "align_self": null,
            "border": null,
            "bottom": null,
            "display": null,
            "flex": null,
            "flex_flow": null,
            "grid_area": null,
            "grid_auto_columns": null,
            "grid_auto_flow": null,
            "grid_auto_rows": null,
            "grid_column": null,
            "grid_gap": null,
            "grid_row": null,
            "grid_template_areas": null,
            "grid_template_columns": null,
            "grid_template_rows": null,
            "height": null,
            "justify_content": null,
            "justify_items": null,
            "left": null,
            "margin": null,
            "max_height": null,
            "max_width": null,
            "min_height": null,
            "min_width": null,
            "object_fit": null,
            "object_position": null,
            "order": null,
            "overflow": null,
            "overflow_x": null,
            "overflow_y": null,
            "padding": null,
            "right": null,
            "top": null,
            "visibility": null,
            "width": null
          }
        },
        "d77f1f4fe61340748696d07ba98038d9": {
          "model_module": "@jupyter-widgets/controls",
          "model_module_version": "1.5.0",
          "model_name": "DescriptionStyleModel",
          "state": {
            "_model_module": "@jupyter-widgets/controls",
            "_model_module_version": "1.5.0",
            "_model_name": "DescriptionStyleModel",
            "_view_count": null,
            "_view_module": "@jupyter-widgets/base",
            "_view_module_version": "1.2.0",
            "_view_name": "StyleView",
            "description_width": ""
          }
        },
        "d8b22e649ba84d65918df559ce94ef56": {
          "model_module": "@jupyter-widgets/controls",
          "model_module_version": "1.5.0",
          "model_name": "HTMLModel",
          "state": {
            "_dom_classes": [],
            "_model_module": "@jupyter-widgets/controls",
            "_model_module_version": "1.5.0",
            "_model_name": "HTMLModel",
            "_view_count": null,
            "_view_module": "@jupyter-widgets/controls",
            "_view_module_version": "1.5.0",
            "_view_name": "HTMLView",
            "description": "",
            "description_tooltip": null,
            "layout": "IPY_MODEL_15956e17b020455a92e37a031ffb435b",
            "placeholder": "​",
            "style": "IPY_MODEL_6286efbf56d7446caa41cf96c806a05a",
            "value": "Map: 100%"
          }
        },
        "db20ba038fe645e4b48ddb6a8326aac1": {
          "model_module": "@jupyter-widgets/base",
          "model_module_version": "1.2.0",
          "model_name": "LayoutModel",
          "state": {
            "_model_module": "@jupyter-widgets/base",
            "_model_module_version": "1.2.0",
            "_model_name": "LayoutModel",
            "_view_count": null,
            "_view_module": "@jupyter-widgets/base",
            "_view_module_version": "1.2.0",
            "_view_name": "LayoutView",
            "align_content": null,
            "align_items": null,
            "align_self": null,
            "border": null,
            "bottom": null,
            "display": null,
            "flex": null,
            "flex_flow": null,
            "grid_area": null,
            "grid_auto_columns": null,
            "grid_auto_flow": null,
            "grid_auto_rows": null,
            "grid_column": null,
            "grid_gap": null,
            "grid_row": null,
            "grid_template_areas": null,
            "grid_template_columns": null,
            "grid_template_rows": null,
            "height": null,
            "justify_content": null,
            "justify_items": null,
            "left": null,
            "margin": null,
            "max_height": null,
            "max_width": null,
            "min_height": null,
            "min_width": null,
            "object_fit": null,
            "object_position": null,
            "order": null,
            "overflow": null,
            "overflow_x": null,
            "overflow_y": null,
            "padding": null,
            "right": null,
            "top": null,
            "visibility": null,
            "width": null
          }
        },
        "ec40caa8315d4bab9b6c8015ecc48fc0": {
          "model_module": "@jupyter-widgets/controls",
          "model_module_version": "1.5.0",
          "model_name": "FloatProgressModel",
          "state": {
            "_dom_classes": [],
            "_model_module": "@jupyter-widgets/controls",
            "_model_module_version": "1.5.0",
            "_model_name": "FloatProgressModel",
            "_view_count": null,
            "_view_module": "@jupyter-widgets/controls",
            "_view_module_version": "1.5.0",
            "_view_name": "ProgressView",
            "bar_style": "success",
            "description": "",
            "description_tooltip": null,
            "layout": "IPY_MODEL_bca60a267e144bae86fd3c0eb5177a89",
            "max": 315,
            "min": 0,
            "orientation": "horizontal",
            "style": "IPY_MODEL_a34bb38e55434ac796eb9b5b47989740",
            "value": 315
          }
        },
        "f57bb081b949407985e3ca335d4b30a8": {
          "model_module": "@jupyter-widgets/controls",
          "model_module_version": "1.5.0",
          "model_name": "DescriptionStyleModel",
          "state": {
            "_model_module": "@jupyter-widgets/controls",
            "_model_module_version": "1.5.0",
            "_model_name": "DescriptionStyleModel",
            "_view_count": null,
            "_view_module": "@jupyter-widgets/base",
            "_view_module_version": "1.2.0",
            "_view_name": "StyleView",
            "description_width": ""
          }
        },
        "f913234ca5994d9b90f0876ed417527b": {
          "model_module": "@jupyter-widgets/controls",
          "model_module_version": "1.5.0",
          "model_name": "DescriptionStyleModel",
          "state": {
            "_model_module": "@jupyter-widgets/controls",
            "_model_module_version": "1.5.0",
            "_model_name": "DescriptionStyleModel",
            "_view_count": null,
            "_view_module": "@jupyter-widgets/base",
            "_view_module_version": "1.2.0",
            "_view_name": "StyleView",
            "description_width": ""
          }
        }
      }
    }
  },
  "nbformat": 4,
  "nbformat_minor": 5
}
