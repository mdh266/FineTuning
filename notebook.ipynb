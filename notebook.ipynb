{
 "cells": [
  {
   "cell_type": "code",
   "execution_count": 1,
   "id": "d48d14c8",
   "metadata": {},
   "outputs": [],
   "source": [
    "from langchain_huggingface import HuggingFacePipeline\n",
    "from langchain.prompts import PromptTemplate"
   ]
  },
  {
   "cell_type": "code",
   "execution_count": null,
   "id": "8bc69546",
   "metadata": {},
   "outputs": [
    {
     "name": "stderr",
     "output_type": "stream",
     "text": [
      "/Users/mikeharmon/miniconda3/envs/pytorch_env/lib/python3.12/site-packages/tqdm/auto.py:21: TqdmWarning: IProgress not found. Please update jupyter and ipywidgets. See https://ipywidgets.readthedocs.io/en/stable/user_install.html\n",
      "  from .autonotebook import tqdm as notebook_tqdm\n"
     ]
    }
   ],
   "source": [
    "from transformers import pipeline"
   ]
  },
  {
   "cell_type": "code",
   "execution_count": null,
   "id": "1cf93f8f",
   "metadata": {},
   "outputs": [],
   "source": []
  },
  {
   "cell_type": "markdown",
   "id": "fa1dc0a2",
   "metadata": {},
   "source": [
    "Using GPT2 Through HuggingFace Directly"
   ]
  },
  {
   "cell_type": "code",
   "execution_count": 17,
   "id": "d9293cc0",
   "metadata": {},
   "outputs": [],
   "source": [
    "model_name = \"gpt2-large\""
   ]
  },
  {
   "cell_type": "code",
   "execution_count": 25,
   "id": "7d8c1897",
   "metadata": {},
   "outputs": [],
   "source": [
    "device=\"mps\""
   ]
  },
  {
   "cell_type": "code",
   "execution_count": null,
   "id": "e67c3232",
   "metadata": {},
   "outputs": [
    {
     "name": "stderr",
     "output_type": "stream",
     "text": [
      "Device set to use mps\n"
     ]
    }
   ],
   "source": [
    "pipe = pipeline(\"text-generation\", \n",
    "                model=model_name,\n",
    "                min_new_tokens=50,\n",
    "                temperature=0.6,\n",
    "                device=device,\n",
    "                top_p=0.95,\n",
    "                do_sample=True)"
   ]
  },
  {
   "cell_type": "code",
   "execution_count": 38,
   "id": "c9bdff8e",
   "metadata": {},
   "outputs": [
    {
     "name": "stderr",
     "output_type": "stream",
     "text": [
      "Setting `pad_token_id` to `eos_token_id`:50256 for open-end generation.\n"
     ]
    }
   ],
   "source": [
    "result1 = pipe(\"Why is the sky blue?\")"
   ]
  },
  {
   "cell_type": "code",
   "execution_count": 53,
   "id": "c32b58f0",
   "metadata": {},
   "outputs": [
    {
     "name": "stdout",
     "output_type": "stream",
     "text": [
      "Why is the sky blue?\n",
      "\n",
      "The sky is blue because of the molecules that make up the atmosphere. These molecules are made up of a variety of different elements, and their composition varies with the amount of sunlight that reaches them. The more sunlight that reaches a particular molecule, the more it will absorb, and the blue color will appear.\n",
      "\n",
      "The amount of sunlight reaching a particular molecule will also depend on the amount of atmosphere there is in the atmosphere. The more atmosphere there is in the atmosphere, the more light it will absorb, and the blue color will appear.\n",
      "\n",
      "What does the sky look like when the sun is out?\n",
      "\n",
      "When the sun is out, the sky will appear blue. If the sun is shining on the sky, the sky will appear blue. If the sun is not shining on the sky, the sky will appear red.\n",
      "\n",
      "The sky is blue when the sun is shining on the Earth. If the sun is shining on the Earth, the sky will appear blue. If the sun is not shining on the Earth, the sky will appear red.\n",
      "\n",
      "The sky is blue when the sun is shining on a specific location on the Earth. The sky will appear blue when the sun is shining on the following locations:\n",
      "\n",
      "On the North Pole\n",
      "\n"
     ]
    }
   ],
   "source": [
    "print(result1[0].get(\"generated_text\"))"
   ]
  },
  {
   "cell_type": "markdown",
   "id": "e7bef9ab",
   "metadata": {},
   "source": [
    "Using GPT2 Through HuggingFace & LangChain"
   ]
  },
  {
   "cell_type": "code",
   "execution_count": 30,
   "id": "2e71d7e4",
   "metadata": {},
   "outputs": [],
   "source": [
    "llm = HuggingFacePipeline(pipeline=pipe)"
   ]
  },
  {
   "cell_type": "code",
   "execution_count": null,
   "id": "c4d901d7",
   "metadata": {},
   "outputs": [
    {
     "name": "stderr",
     "output_type": "stream",
     "text": [
      "Setting `pad_token_id` to `eos_token_id`:50256 for open-end generation.\n"
     ]
    }
   ],
   "source": [
    "result2 = llm.invoke(\"Why is the sky blue?\")"
   ]
  },
  {
   "cell_type": "code",
   "execution_count": 41,
   "id": "a43c2cdf",
   "metadata": {},
   "outputs": [
    {
     "name": "stdout",
     "output_type": "stream",
     "text": [
      "Why is the sky blue?\n",
      "\n",
      "There are lots of theories, but the simplest is that the sky is made up of many layers of different colors.\n",
      "\n",
      "In the early 1800s, German physicist Paul Bernoulli proposed a theory that the sky is actually made up of many layers of different colors.\n",
      "\n",
      "He proposed that the colors we see in the sky are actually caused by different layers of color.\n",
      "\n",
      "Bernoulli proposed that the colors we see are actually caused by different layers of color.\n",
      "\n",
      "The layers of color are made up of a mixture of light and dark colors.\n",
      "\n",
      "There are many different types of light, and each layer of color is made up of a mixture of light and dark colors.\n",
      "\n",
      "Bernoulli's theory explains why the sky is blue.\n",
      "\n",
      "The layers of color are made up of a mixture of light and dark colors.\n",
      "\n",
      "There are many different types of light, and each layer of color is made up of a mixture of light and dark colors.\n",
      "\n",
      "The layers of color are made up of a mixture of light and dark colors.\n",
      "\n",
      "There are many different types of light, and each layer of color is made up of a mixture of light and dark colors.\n",
      "\n",
      "The layers of color are made up of\n"
     ]
    }
   ],
   "source": [
    "print(result2)"
   ]
  },
  {
   "cell_type": "markdown",
   "id": "de829506",
   "metadata": {},
   "source": [
    "Chaining"
   ]
  },
  {
   "cell_type": "code",
   "execution_count": 43,
   "id": "299b100b",
   "metadata": {},
   "outputs": [],
   "source": [
    "prompt = PromptTemplate.from_template(\"Tell me a story about {topic}.\")\n",
    "\n",
    "chain = prompt | llm "
   ]
  },
  {
   "cell_type": "code",
   "execution_count": 44,
   "id": "a6c28d83",
   "metadata": {},
   "outputs": [
    {
     "name": "stderr",
     "output_type": "stream",
     "text": [
      "Setting `pad_token_id` to `eos_token_id`:50256 for open-end generation.\n"
     ]
    }
   ],
   "source": [
    "result = chain.invoke({\"topic\": \"America\"})"
   ]
  },
  {
   "cell_type": "code",
   "execution_count": 54,
   "id": "7cd2af2b",
   "metadata": {},
   "outputs": [
    {
     "name": "stdout",
     "output_type": "stream",
     "text": [
      "Tell me a story about America.\n",
      "\n",
      "A: I don't think it's an American story. It's a story about a country that is losing its identity.\n",
      "\n",
      "Q: You've said that the United States is a country that has lost its identity. What do you mean by that?\n",
      "\n",
      "A: It's a country that is losing its identity because it is no longer a nation. It's no longer a country of laws and a nation of laws. It's a country that is a nation of people.\n",
      "\n",
      "Q: Do you think that the United States will ever be a country again?\n",
      "\n",
      "A: I don't think it will ever be a country again.\n",
      "\n",
      "Q: You are a professor of history at the University of Chicago. What do you think is the most important lesson that you learned from your time at the University of Chicago?\n",
      "\n",
      "A: The most important lesson I learned from my time at the University of Chicago was that the United States was the best country in the world.\n",
      "\n",
      "Q: How do you explain that?\n",
      "\n",
      "A: I think the reason is that the United States was a nation of laws and a nation of laws. It was a nation of people, and it was a nation of laws. And it was a nation\n"
     ]
    }
   ],
   "source": [
    "print(result)"
   ]
  },
  {
   "cell_type": "code",
   "execution_count": null,
   "id": "669956a5",
   "metadata": {},
   "outputs": [
    {
     "data": {
      "text/plain": [
       "True"
      ]
     },
     "execution_count": 57,
     "metadata": {},
     "output_type": "execute_result"
    }
   ],
   "source": [
    "# from dotenv import load_dotenv\n",
    "# from huggingface_hub import login\n",
    "# load_dotenv()"
   ]
  }
 ],
 "metadata": {
  "kernelspec": {
   "display_name": "Pytorch Env",
   "language": "python",
   "name": "pytorch_env"
  },
  "language_info": {
   "codemirror_mode": {
    "name": "ipython",
    "version": 3
   },
   "file_extension": ".py",
   "mimetype": "text/x-python",
   "name": "python",
   "nbconvert_exporter": "python",
   "pygments_lexer": "ipython3",
   "version": "3.12.11"
  }
 },
 "nbformat": 4,
 "nbformat_minor": 5
}
